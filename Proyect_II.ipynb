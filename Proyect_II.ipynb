{
  "nbformat": 4,
  "nbformat_minor": 0,
  "metadata": {
    "colab": {
      "provenance": [],
      "authorship_tag": "ABX9TyOZKsZRGVQZi109kSk9SjxO",
      "include_colab_link": true
    },
    "kernelspec": {
      "name": "python3",
      "display_name": "Python 3"
    },
    "language_info": {
      "name": "python"
    }
  },
  "cells": [
    {
      "cell_type": "markdown",
      "metadata": {
        "id": "view-in-github",
        "colab_type": "text"
      },
      "source": [
        "<a href=\"https://colab.research.google.com/github/carlos-jaramillo/DataScienceProyect/blob/main/Proyect_II.ipynb\" target=\"_parent\"><img src=\"https://colab.research.google.com/assets/colab-badge.svg\" alt=\"Open In Colab\"/></a>"
      ]
    },
    {
      "cell_type": "markdown",
      "source": [
        "## Desarrollado por: *Martín Jaramillo*\n",
        "\n",
        "* Fecha de creación: 18/02/2023\n",
        "* Fecha de actualización: 19/03/2023\n",
        "\n",
        "### Descripción.\n",
        "* Proyecto N°2\n"
      ],
      "metadata": {
        "id": "kIwvywClgWnn"
      }
    },
    {
      "cell_type": "markdown",
      "source": [
        "Primera opción: conjunto de datos 1\n",
        "\n",
        "1) Fuente de datos\n",
        "Dua, D. and Graff, C. (2019). UCI Machine Learning Repository [http://archive.ics.uci.edu/ml]. Irvine, CA: University of California, School of Information and Computer Science.\n",
        "\n",
        "https://archive.ics.uci.edu/ml/datasets/Soybean+%28Large%29\n",
        "\n",
        "2) Breve descripción de datos\n",
        "Características de los granos de soya y cómo se definen para 19 clases.\n",
        "\n",
        "3) ¿Cuál es el objetivo?\n",
        "Predecir que tipo de clase de grano de soya obtengo, con el resto de las características.\n",
        "4) ¿Este es un problema de clasificación o regresión?\n",
        "Clasificación\n",
        "5) ¿Cuántas características hay?\n",
        "35\n",
        "6) ¿Cuántas filas de datos hay?\n",
        "307\n",
        "7) ¿Qué retos, si es que hay alguno, prevén en la limpieza, exploración o modelización con este conjunto de datos?\n",
        "Más que nada, el impedir que ocurra algún tipo de sesgo y no se pueda hacer una buena clasificación, pero habrá que observar cómo son los datos, y la limpieza."
      ],
      "metadata": {
        "id": "VfZqGz9rgeWN"
      }
    },
    {
      "cell_type": "markdown",
      "source": [
        "Segunda opción: conjunto de datos 2\n",
        "\n",
        "1) Fuente de datos\n",
        "Liang, X., Zou, T., Guo, B., Li, S., Zhang, H., Zhang, S., Huang, H. and Chen, S. X. (2015). Assessing Beijing's PM2.5 pollution: severity, weather impact, APEC and winter heating. Proceedings of the Royal Society A, 471, 20150257\n",
        "\n",
        "https://archive.ics.uci.edu/ml/datasets/Beijing+PM2.5+Data\n",
        "2) Breve descripción de datos\n",
        "Mediciones sobre la calidad de aire, observando cantidad de material particulado 2.5 durante años, meses, días y horas.\n",
        "3) ¿Cuál es el objetivo?\n",
        "Predecir futuras mediciones de Material particulado durante el tiempo de un año, con el resto de características.\n",
        "4) ¿Este es un problema de clasificación o regresión?\n",
        "Regresión\n",
        "5) ¿Cuántas características hay?\n",
        "13\n",
        "6) ¿Cuántas filas de datos hay?\n",
        "43824\n",
        "7) ¿Qué retos, si es que hay alguno, prevén en la limpieza, exploración o modelización con este conjunto de datos?\n",
        "Limpieza de datos, ya que el Dataframe es más grande, por ende, supongo que me demoraré ahí bastante, para que quede lo suficientemente limpia, para poder plantear un RandomForest, o algo así."
      ],
      "metadata": {
        "id": "X6V3jSUMhUk7"
      }
    }
  ]
}