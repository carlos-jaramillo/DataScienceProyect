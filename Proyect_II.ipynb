{
  "nbformat": 4,
  "nbformat_minor": 0,
  "metadata": {
    "colab": {
      "provenance": [],
      "authorship_tag": "ABX9TyOs16brOOGzEN+50zoaGRfm",
      "include_colab_link": true
    },
    "kernelspec": {
      "name": "python3",
      "display_name": "Python 3"
    },
    "language_info": {
      "name": "python"
    }
  },
  "cells": [
    {
      "cell_type": "markdown",
      "metadata": {
        "id": "view-in-github",
        "colab_type": "text"
      },
      "source": [
        "<a href=\"https://colab.research.google.com/github/carlos-jaramillo/DataScienceProyect/blob/main/Proyect_II.ipynb\" target=\"_parent\"><img src=\"https://colab.research.google.com/assets/colab-badge.svg\" alt=\"Open In Colab\"/></a>"
      ]
    },
    {
      "cell_type": "markdown",
      "source": [
        "## Desarrollado por: *Martín Jaramillo*\n",
        "\n",
        "* Fecha de creación: 18/03/2023\n",
        "* Fecha de actualización: 8/04/2023\n",
        "\n",
        "### Descripción.\n",
        " 1.  Fuente de datos:\n",
        "\n",
        "Liang, X., Zou, T., Guo, B., Li, S., Zhang, H., Zhang, S., Huang, H. and Chen, S. X. (2015). Assessing Beijing's PM2.5 pollution: severity, weather impact, APEC and winter heating. Proceedings of the Royal Society A, 471, 20150257\n",
        "\n",
        "https://archive.ics.uci.edu/ml/datasets/Beijing+PM2.5+Data\n",
        "\n",
        "2. Breve descripción:\n",
        "\n",
        "Mediciones sobre la calidad de aire, observando cantidad de material particulado 2.5 durante años, meses, días y horas.\n",
        "\n",
        "3. Objetivo del proyecto:\n",
        "\n",
        "Predecir futuras mediciones de Material particulado durante el tiempo de un año, con el resto de características.\n",
        "\n",
        "4. Tipo de modelo:\n",
        "\n",
        "Regresión\n",
        "\n",
        "5. Características (#):\n",
        "\n",
        "13\n",
        "\n",
        "6. Filas (#):\n",
        "\n",
        "43824\n",
        "\n",
        "\n"
      ],
      "metadata": {
        "id": "kIwvywClgWnn"
      }
    },
    {
      "cell_type": "markdown",
      "source": [
        "# Attribute Information:\n",
        "\n",
        "* No: row number\n",
        "\n",
        "* year: year of data in this row\n",
        "\n",
        "* month: month of data in this row\n",
        "\n",
        "* day: day of data in this row\n",
        "\n",
        "* hour: hour of data in this row\n",
        "\n",
        "* pm2.5: PM2.5 concentration (ug/m^3)\n",
        "\n",
        "* DEWP: Dew Point (â„ƒ)\n",
        "\n",
        "* TEMP: Temperature (â„ƒ)\n",
        "\n",
        "* PRES: Pressure (hPa)\n",
        "\n",
        "* cbwd: Combined wind direction\n",
        "\n",
        "* Iws: Cumulated wind speed (m/s)\n",
        "\n",
        "* Is: Cumulated hours of snow\n",
        "\n",
        "* Ir: Cumulated hours of rain"
      ],
      "metadata": {
        "id": "7AsocEMEKKSl"
      }
    },
    {
      "cell_type": "code",
      "source": [
        "#Drive Mount\n",
        "from google.colab import drive\n",
        "drive.mount('/content/drive')"
      ],
      "metadata": {
        "colab": {
          "base_uri": "https://localhost:8080/"
        },
        "id": "4pMzyLlnG4Xe",
        "outputId": "33073370-93ed-49fb-e015-9d53bab06ac0"
      },
      "execution_count": 2,
      "outputs": [
        {
          "output_type": "stream",
          "name": "stdout",
          "text": [
            "Mounted at /content/drive\n"
          ]
        }
      ]
    },
    {
      "cell_type": "code",
      "source": [
        "#Imports\n",
        "import matplotlib.pyplot as plt\n",
        "import pandas as pd\n",
        "import numpy as np"
      ],
      "metadata": {
        "id": "jyQvcXvKHnld"
      },
      "execution_count": 3,
      "outputs": []
    },
    {
      "cell_type": "code",
      "source": [
        "#Dataframe\n",
        "df = pd.read_csv(\"/content/drive/MyDrive/PRSA_data_2010.1.1-2014.12.31.csv\")\n",
        "df.head()"
      ],
      "metadata": {
        "colab": {
          "base_uri": "https://localhost:8080/",
          "height": 206
        },
        "id": "WGTqrHfVHqtF",
        "outputId": "bd0be29c-c3ca-4b4f-f63f-606afcfb295f"
      },
      "execution_count": 4,
      "outputs": [
        {
          "output_type": "execute_result",
          "data": {
            "text/plain": [
              "   No  year  month  day  hour  pm2.5  DEWP  TEMP    PRES cbwd    Iws  Is  Ir\n",
              "0   1  2010      1    1     0    NaN   -21 -11.0  1021.0   NW   1.79   0   0\n",
              "1   2  2010      1    1     1    NaN   -21 -12.0  1020.0   NW   4.92   0   0\n",
              "2   3  2010      1    1     2    NaN   -21 -11.0  1019.0   NW   6.71   0   0\n",
              "3   4  2010      1    1     3    NaN   -21 -14.0  1019.0   NW   9.84   0   0\n",
              "4   5  2010      1    1     4    NaN   -20 -12.0  1018.0   NW  12.97   0   0"
            ],
            "text/html": [
              "\n",
              "  <div id=\"df-dec8e461-eedb-40da-9050-4b744dfdee4c\">\n",
              "    <div class=\"colab-df-container\">\n",
              "      <div>\n",
              "<style scoped>\n",
              "    .dataframe tbody tr th:only-of-type {\n",
              "        vertical-align: middle;\n",
              "    }\n",
              "\n",
              "    .dataframe tbody tr th {\n",
              "        vertical-align: top;\n",
              "    }\n",
              "\n",
              "    .dataframe thead th {\n",
              "        text-align: right;\n",
              "    }\n",
              "</style>\n",
              "<table border=\"1\" class=\"dataframe\">\n",
              "  <thead>\n",
              "    <tr style=\"text-align: right;\">\n",
              "      <th></th>\n",
              "      <th>No</th>\n",
              "      <th>year</th>\n",
              "      <th>month</th>\n",
              "      <th>day</th>\n",
              "      <th>hour</th>\n",
              "      <th>pm2.5</th>\n",
              "      <th>DEWP</th>\n",
              "      <th>TEMP</th>\n",
              "      <th>PRES</th>\n",
              "      <th>cbwd</th>\n",
              "      <th>Iws</th>\n",
              "      <th>Is</th>\n",
              "      <th>Ir</th>\n",
              "    </tr>\n",
              "  </thead>\n",
              "  <tbody>\n",
              "    <tr>\n",
              "      <th>0</th>\n",
              "      <td>1</td>\n",
              "      <td>2010</td>\n",
              "      <td>1</td>\n",
              "      <td>1</td>\n",
              "      <td>0</td>\n",
              "      <td>NaN</td>\n",
              "      <td>-21</td>\n",
              "      <td>-11.0</td>\n",
              "      <td>1021.0</td>\n",
              "      <td>NW</td>\n",
              "      <td>1.79</td>\n",
              "      <td>0</td>\n",
              "      <td>0</td>\n",
              "    </tr>\n",
              "    <tr>\n",
              "      <th>1</th>\n",
              "      <td>2</td>\n",
              "      <td>2010</td>\n",
              "      <td>1</td>\n",
              "      <td>1</td>\n",
              "      <td>1</td>\n",
              "      <td>NaN</td>\n",
              "      <td>-21</td>\n",
              "      <td>-12.0</td>\n",
              "      <td>1020.0</td>\n",
              "      <td>NW</td>\n",
              "      <td>4.92</td>\n",
              "      <td>0</td>\n",
              "      <td>0</td>\n",
              "    </tr>\n",
              "    <tr>\n",
              "      <th>2</th>\n",
              "      <td>3</td>\n",
              "      <td>2010</td>\n",
              "      <td>1</td>\n",
              "      <td>1</td>\n",
              "      <td>2</td>\n",
              "      <td>NaN</td>\n",
              "      <td>-21</td>\n",
              "      <td>-11.0</td>\n",
              "      <td>1019.0</td>\n",
              "      <td>NW</td>\n",
              "      <td>6.71</td>\n",
              "      <td>0</td>\n",
              "      <td>0</td>\n",
              "    </tr>\n",
              "    <tr>\n",
              "      <th>3</th>\n",
              "      <td>4</td>\n",
              "      <td>2010</td>\n",
              "      <td>1</td>\n",
              "      <td>1</td>\n",
              "      <td>3</td>\n",
              "      <td>NaN</td>\n",
              "      <td>-21</td>\n",
              "      <td>-14.0</td>\n",
              "      <td>1019.0</td>\n",
              "      <td>NW</td>\n",
              "      <td>9.84</td>\n",
              "      <td>0</td>\n",
              "      <td>0</td>\n",
              "    </tr>\n",
              "    <tr>\n",
              "      <th>4</th>\n",
              "      <td>5</td>\n",
              "      <td>2010</td>\n",
              "      <td>1</td>\n",
              "      <td>1</td>\n",
              "      <td>4</td>\n",
              "      <td>NaN</td>\n",
              "      <td>-20</td>\n",
              "      <td>-12.0</td>\n",
              "      <td>1018.0</td>\n",
              "      <td>NW</td>\n",
              "      <td>12.97</td>\n",
              "      <td>0</td>\n",
              "      <td>0</td>\n",
              "    </tr>\n",
              "  </tbody>\n",
              "</table>\n",
              "</div>\n",
              "      <button class=\"colab-df-convert\" onclick=\"convertToInteractive('df-dec8e461-eedb-40da-9050-4b744dfdee4c')\"\n",
              "              title=\"Convert this dataframe to an interactive table.\"\n",
              "              style=\"display:none;\">\n",
              "        \n",
              "  <svg xmlns=\"http://www.w3.org/2000/svg\" height=\"24px\"viewBox=\"0 0 24 24\"\n",
              "       width=\"24px\">\n",
              "    <path d=\"M0 0h24v24H0V0z\" fill=\"none\"/>\n",
              "    <path d=\"M18.56 5.44l.94 2.06.94-2.06 2.06-.94-2.06-.94-.94-2.06-.94 2.06-2.06.94zm-11 1L8.5 8.5l.94-2.06 2.06-.94-2.06-.94L8.5 2.5l-.94 2.06-2.06.94zm10 10l.94 2.06.94-2.06 2.06-.94-2.06-.94-.94-2.06-.94 2.06-2.06.94z\"/><path d=\"M17.41 7.96l-1.37-1.37c-.4-.4-.92-.59-1.43-.59-.52 0-1.04.2-1.43.59L10.3 9.45l-7.72 7.72c-.78.78-.78 2.05 0 2.83L4 21.41c.39.39.9.59 1.41.59.51 0 1.02-.2 1.41-.59l7.78-7.78 2.81-2.81c.8-.78.8-2.07 0-2.86zM5.41 20L4 18.59l7.72-7.72 1.47 1.35L5.41 20z\"/>\n",
              "  </svg>\n",
              "      </button>\n",
              "      \n",
              "  <style>\n",
              "    .colab-df-container {\n",
              "      display:flex;\n",
              "      flex-wrap:wrap;\n",
              "      gap: 12px;\n",
              "    }\n",
              "\n",
              "    .colab-df-convert {\n",
              "      background-color: #E8F0FE;\n",
              "      border: none;\n",
              "      border-radius: 50%;\n",
              "      cursor: pointer;\n",
              "      display: none;\n",
              "      fill: #1967D2;\n",
              "      height: 32px;\n",
              "      padding: 0 0 0 0;\n",
              "      width: 32px;\n",
              "    }\n",
              "\n",
              "    .colab-df-convert:hover {\n",
              "      background-color: #E2EBFA;\n",
              "      box-shadow: 0px 1px 2px rgba(60, 64, 67, 0.3), 0px 1px 3px 1px rgba(60, 64, 67, 0.15);\n",
              "      fill: #174EA6;\n",
              "    }\n",
              "\n",
              "    [theme=dark] .colab-df-convert {\n",
              "      background-color: #3B4455;\n",
              "      fill: #D2E3FC;\n",
              "    }\n",
              "\n",
              "    [theme=dark] .colab-df-convert:hover {\n",
              "      background-color: #434B5C;\n",
              "      box-shadow: 0px 1px 3px 1px rgba(0, 0, 0, 0.15);\n",
              "      filter: drop-shadow(0px 1px 2px rgba(0, 0, 0, 0.3));\n",
              "      fill: #FFFFFF;\n",
              "    }\n",
              "  </style>\n",
              "\n",
              "      <script>\n",
              "        const buttonEl =\n",
              "          document.querySelector('#df-dec8e461-eedb-40da-9050-4b744dfdee4c button.colab-df-convert');\n",
              "        buttonEl.style.display =\n",
              "          google.colab.kernel.accessAllowed ? 'block' : 'none';\n",
              "\n",
              "        async function convertToInteractive(key) {\n",
              "          const element = document.querySelector('#df-dec8e461-eedb-40da-9050-4b744dfdee4c');\n",
              "          const dataTable =\n",
              "            await google.colab.kernel.invokeFunction('convertToInteractive',\n",
              "                                                     [key], {});\n",
              "          if (!dataTable) return;\n",
              "\n",
              "          const docLinkHtml = 'Like what you see? Visit the ' +\n",
              "            '<a target=\"_blank\" href=https://colab.research.google.com/notebooks/data_table.ipynb>data table notebook</a>'\n",
              "            + ' to learn more about interactive tables.';\n",
              "          element.innerHTML = '';\n",
              "          dataTable['output_type'] = 'display_data';\n",
              "          await google.colab.output.renderOutput(dataTable, element);\n",
              "          const docLink = document.createElement('div');\n",
              "          docLink.innerHTML = docLinkHtml;\n",
              "          element.appendChild(docLink);\n",
              "        }\n",
              "      </script>\n",
              "    </div>\n",
              "  </div>\n",
              "  "
            ]
          },
          "metadata": {},
          "execution_count": 4
        }
      ]
    },
    {
      "cell_type": "code",
      "source": [
        "#Looking the info of the DataFrame\n",
        "df.info()"
      ],
      "metadata": {
        "colab": {
          "base_uri": "https://localhost:8080/"
        },
        "id": "omOuWgZXID59",
        "outputId": "b6481f79-b40c-4ebf-c3e2-8ab09bd90100"
      },
      "execution_count": 5,
      "outputs": [
        {
          "output_type": "stream",
          "name": "stdout",
          "text": [
            "<class 'pandas.core.frame.DataFrame'>\n",
            "RangeIndex: 43824 entries, 0 to 43823\n",
            "Data columns (total 13 columns):\n",
            " #   Column  Non-Null Count  Dtype  \n",
            "---  ------  --------------  -----  \n",
            " 0   No      43824 non-null  int64  \n",
            " 1   year    43824 non-null  int64  \n",
            " 2   month   43824 non-null  int64  \n",
            " 3   day     43824 non-null  int64  \n",
            " 4   hour    43824 non-null  int64  \n",
            " 5   pm2.5   41757 non-null  float64\n",
            " 6   DEWP    43824 non-null  int64  \n",
            " 7   TEMP    43824 non-null  float64\n",
            " 8   PRES    43824 non-null  float64\n",
            " 9   cbwd    43824 non-null  object \n",
            " 10  Iws     43824 non-null  float64\n",
            " 11  Is      43824 non-null  int64  \n",
            " 12  Ir      43824 non-null  int64  \n",
            "dtypes: float64(4), int64(8), object(1)\n",
            "memory usage: 4.3+ MB\n"
          ]
        }
      ]
    },
    {
      "cell_type": "code",
      "source": [
        "#Checking duplicates\n",
        "df.duplicated().sum()"
      ],
      "metadata": {
        "colab": {
          "base_uri": "https://localhost:8080/"
        },
        "id": "Xt1xKWNpKyh9",
        "outputId": "3a9178ec-c811-46a7-d590-17054848f02c"
      },
      "execution_count": 6,
      "outputs": [
        {
          "output_type": "execute_result",
          "data": {
            "text/plain": [
              "0"
            ]
          },
          "metadata": {},
          "execution_count": 6
        }
      ]
    },
    {
      "cell_type": "code",
      "source": [
        "#Identify any NaN values\n",
        "df.isna().sum()"
      ],
      "metadata": {
        "colab": {
          "base_uri": "https://localhost:8080/"
        },
        "id": "P4RAJxDIIIh3",
        "outputId": "703ddc3d-9d16-45ab-bb2e-53c8edaced1c"
      },
      "execution_count": 7,
      "outputs": [
        {
          "output_type": "execute_result",
          "data": {
            "text/plain": [
              "No          0\n",
              "year        0\n",
              "month       0\n",
              "day         0\n",
              "hour        0\n",
              "pm2.5    2067\n",
              "DEWP        0\n",
              "TEMP        0\n",
              "PRES        0\n",
              "cbwd        0\n",
              "Iws         0\n",
              "Is          0\n",
              "Ir          0\n",
              "dtype: int64"
            ]
          },
          "metadata": {},
          "execution_count": 7
        }
      ]
    },
    {
      "cell_type": "code",
      "source": [
        "#Percentage of null values\n",
        "print((2067/43824)*100)"
      ],
      "metadata": {
        "colab": {
          "base_uri": "https://localhost:8080/"
        },
        "id": "7Hc4ZeliC-ax",
        "outputId": "866aa1cb-d47c-47a7-a5f5-2398f4bbb791"
      },
      "execution_count": 8,
      "outputs": [
        {
          "output_type": "stream",
          "name": "stdout",
          "text": [
            "4.716593647316539\n"
          ]
        }
      ]
    },
    {
      "cell_type": "code",
      "source": [
        "#Cheking more info on \"pm2.5\" column\n",
        "df[\"pm2.5\"].describe()"
      ],
      "metadata": {
        "colab": {
          "base_uri": "https://localhost:8080/"
        },
        "id": "sL-PnzJcIcdN",
        "outputId": "968435d4-d3bb-4ad0-d441-77bd244071ec"
      },
      "execution_count": 9,
      "outputs": [
        {
          "output_type": "execute_result",
          "data": {
            "text/plain": [
              "count    41757.000000\n",
              "mean        98.613215\n",
              "std         92.050387\n",
              "min          0.000000\n",
              "25%         29.000000\n",
              "50%         72.000000\n",
              "75%        137.000000\n",
              "max        994.000000\n",
              "Name: pm2.5, dtype: float64"
            ]
          },
          "metadata": {},
          "execution_count": 9
        }
      ]
    },
    {
      "cell_type": "code",
      "source": [
        "#Cheking more info on \"pm2.5\" column\n",
        "df[\"pm2.5\"].value_counts()"
      ],
      "metadata": {
        "colab": {
          "base_uri": "https://localhost:8080/"
        },
        "id": "y908n4dRINM8",
        "outputId": "7cd58280-b06c-4801-a7a6-313591396229"
      },
      "execution_count": 10,
      "outputs": [
        {
          "output_type": "execute_result",
          "data": {
            "text/plain": [
              "16.0     626\n",
              "11.0     596\n",
              "13.0     589\n",
              "12.0     578\n",
              "17.0     572\n",
              "        ... \n",
              "558.0      1\n",
              "607.0      1\n",
              "491.0      1\n",
              "524.0      1\n",
              "580.0      1\n",
              "Name: pm2.5, Length: 581, dtype: int64"
            ]
          },
          "metadata": {},
          "execution_count": 10
        }
      ]
    },
    {
      "cell_type": "code",
      "source": [
        "#Cheking more info on \"pm2.5\" column\n",
        "df[\"pm2.5\"].unique()"
      ],
      "metadata": {
        "colab": {
          "base_uri": "https://localhost:8080/"
        },
        "id": "qAsB3XfKJQqt",
        "outputId": "e1688f68-e8c4-407d-944e-8b6b4086836a"
      },
      "execution_count": 11,
      "outputs": [
        {
          "output_type": "execute_result",
          "data": {
            "text/plain": [
              "array([ nan, 129., 148., 159., 181., 138., 109., 105., 124., 120., 132.,\n",
              "       140., 152., 164., 158., 154., 170., 149., 156., 126.,  90.,  63.,\n",
              "        65.,  55.,  83.,  91.,  86.,  82.,  78.,  98., 107.,  96.,  95.,\n",
              "        70.,  61.,  53.,  71.,  72.,  76.,  73.,  79.,  58.,  25.,  26.,\n",
              "        28.,  20.,  29.,  27.,  32.,  30.,  31.,  33.,  34.,  36.,  39.,\n",
              "        41.,  50.,  56.,  59.,  60.,  84., 106.,  66.,  77.,  44.,  21.,\n",
              "        42.,  48.,  49.,  52.,  75.,  93., 131., 127., 130.,  43.,  37.,\n",
              "        24.,  23.,  40.,  51.,  57.,  54.,  67., 198., 190., 210., 195.,\n",
              "       275., 110., 100.,  81.,  92., 135., 155., 250., 200., 231., 212.,\n",
              "       219., 227., 226., 225., 168., 169., 165., 167., 196., 119.,  45.,\n",
              "        47.,  62.,  35.,  68.,  88.,  22.,  17.,  16.,  18.,  15.,  13.,\n",
              "         9.,  11.,  19.,  12., 257., 174., 161., 137.,  64.,  87.,  89.,\n",
              "        94.,  69., 102., 141., 211., 242., 271., 249., 147., 114., 108.,\n",
              "       128., 150., 197., 235., 261., 269., 266., 263., 241., 205., 160.,\n",
              "       208., 209., 183., 182., 230., 172., 166., 177., 191., 268., 317.,\n",
              "       291., 313., 282., 303., 349., 407., 361., 234., 184., 146., 144.,\n",
              "       173., 188., 203., 233., 408., 435., 403., 360., 402., 358., 383.,\n",
              "       332., 274., 256., 302., 330., 367., 297., 331., 323., 339., 301.,\n",
              "       310., 305., 336., 357., 485., 426., 374., 333., 343., 364., 389.,\n",
              "       368., 267.,  38.,  85., 199., 340., 298., 299., 300., 240., 213.,\n",
              "       171., 153., 143.,  14.,  10., 145., 101., 104.,  97.,  80., 121.,\n",
              "       103.,  99.,  74., 189., 118., 125., 162., 157., 178., 187., 185.,\n",
              "       180., 136., 133., 163., 258., 247., 273., 253., 254., 229., 193.,\n",
              "       207., 176.,   6.,   8.,   7.,  46., 113., 259., 351., 980., 599.,\n",
              "       116., 192., 237., 115., 265., 236., 296., 117., 112., 204., 122.,\n",
              "       175., 215., 214., 206., 220., 111., 134., 142., 179., 218., 246.,\n",
              "       264., 283., 223., 243., 262., 311., 307., 312., 292., 353., 309.,\n",
              "       284., 244., 139., 248., 123., 202., 224., 252., 222., 255.,   5.,\n",
              "       216., 314., 201., 239., 228., 221., 217., 245., 232., 700., 473.,\n",
              "       381., 315., 784., 761., 260., 280., 366., 288., 194., 186., 286.,\n",
              "       289., 285., 151., 385., 382., 369., 342., 324., 272., 294.,   4.,\n",
              "       238., 251.,   2.,   3., 304., 290., 270., 278., 277., 276., 281.,\n",
              "       306., 295., 318., 326., 337., 321., 411., 414., 334., 455., 440.,\n",
              "       293.,   1., 320., 372., 503., 534., 506., 505., 465., 468., 449.,\n",
              "       418., 405., 388., 384., 359., 355., 348., 344., 279., 287., 327.,\n",
              "       365., 391., 423., 429., 439., 458., 436., 431., 387., 350., 406.,\n",
              "       422., 400., 470., 459., 378., 329., 335., 396., 412., 430., 434.,\n",
              "       438., 416., 417., 394., 380., 376., 397., 392., 428., 420., 399.,\n",
              "       393., 415., 395., 352., 419., 463., 481., 466., 479., 472., 467.,\n",
              "       525., 504., 502., 521., 446., 354., 362., 325., 346., 476., 480.,\n",
              "       482., 535., 569., 562., 488., 453., 501., 559., 557., 540., 371.,\n",
              "       454., 328., 432., 433., 462., 398., 316., 379., 443., 322., 363.,\n",
              "       319., 308., 528., 489., 404., 410., 441., 425., 427., 474., 500.,\n",
              "       548., 584., 607., 611., 615., 587., 570., 573., 513., 345., 437.,\n",
              "       477., 510., 526., 492., 527., 486., 493., 515., 595., 563., 495.,\n",
              "       508., 464., 452., 498., 478., 499., 494., 445., 457., 347., 401.,\n",
              "       373., 461., 421., 469., 409., 451., 424., 413., 377., 442., 375.,\n",
              "       390., 356., 341., 338., 386., 514., 370., 460., 490., 522., 456.,\n",
              "       524., 491., 484., 450., 558., 994., 972.,   0., 529., 802., 845.,\n",
              "       810., 776., 824., 886., 852., 858., 805., 744., 731., 722., 684.,\n",
              "       651., 673., 475., 523., 447., 448., 603., 496., 444., 512., 532.,\n",
              "       516., 541., 517., 539., 567., 659., 648., 671., 623., 618., 487.,\n",
              "       579., 649., 507., 545., 577., 483., 519., 551., 542., 580.])"
            ]
          },
          "metadata": {},
          "execution_count": 11
        }
      ]
    },
    {
      "cell_type": "code",
      "source": [
        "counts = df[\"pm2.5\"].value_counts()\n",
        "table = pd.DataFrame({'Value': counts.index, 'Count': counts.values})\n",
        "print(table)"
      ],
      "metadata": {
        "colab": {
          "base_uri": "https://localhost:8080/"
        },
        "id": "NvtnA_SfgQgy",
        "outputId": "b3f084ed-fb7d-4bdf-b667-74f35a33b88f"
      },
      "execution_count": 12,
      "outputs": [
        {
          "output_type": "stream",
          "name": "stdout",
          "text": [
            "     Value  Count\n",
            "0     16.0    626\n",
            "1     11.0    596\n",
            "2     13.0    589\n",
            "3     12.0    578\n",
            "4     17.0    572\n",
            "..     ...    ...\n",
            "576  558.0      1\n",
            "577  607.0      1\n",
            "578  491.0      1\n",
            "579  524.0      1\n",
            "580  580.0      1\n",
            "\n",
            "[581 rows x 2 columns]\n"
          ]
        }
      ]
    },
    {
      "cell_type": "code",
      "source": [
        "#Checking atypical values on pm2.5 column\n",
        "df.loc[df[\"pm2.5\"] == 0]"
      ],
      "metadata": {
        "colab": {
          "base_uri": "https://localhost:8080/",
          "height": 176
        },
        "id": "r9xXNgI_QPRV",
        "outputId": "0fdd277c-8889-4ba3-ea63-e96d7aabc990"
      },
      "execution_count": 13,
      "outputs": [
        {
          "output_type": "execute_result",
          "data": {
            "text/plain": [
              "          No  year  month  day  hour  pm2.5  DEWP  TEMP    PRES cbwd     Iws  \\\n",
              "24034  24035  2012      9   28    10    0.0    -5  20.0  1020.0   NW  139.48   \n",
              "24039  24040  2012      9   28    15    0.0   -10  24.0  1017.0   NW  192.68   \n",
              "\n",
              "       Is  Ir  \n",
              "24034   0   0  \n",
              "24039   0   0  "
            ],
            "text/html": [
              "\n",
              "  <div id=\"df-4820f7cc-7b48-45d7-b53a-ee346a2e9518\">\n",
              "    <div class=\"colab-df-container\">\n",
              "      <div>\n",
              "<style scoped>\n",
              "    .dataframe tbody tr th:only-of-type {\n",
              "        vertical-align: middle;\n",
              "    }\n",
              "\n",
              "    .dataframe tbody tr th {\n",
              "        vertical-align: top;\n",
              "    }\n",
              "\n",
              "    .dataframe thead th {\n",
              "        text-align: right;\n",
              "    }\n",
              "</style>\n",
              "<table border=\"1\" class=\"dataframe\">\n",
              "  <thead>\n",
              "    <tr style=\"text-align: right;\">\n",
              "      <th></th>\n",
              "      <th>No</th>\n",
              "      <th>year</th>\n",
              "      <th>month</th>\n",
              "      <th>day</th>\n",
              "      <th>hour</th>\n",
              "      <th>pm2.5</th>\n",
              "      <th>DEWP</th>\n",
              "      <th>TEMP</th>\n",
              "      <th>PRES</th>\n",
              "      <th>cbwd</th>\n",
              "      <th>Iws</th>\n",
              "      <th>Is</th>\n",
              "      <th>Ir</th>\n",
              "    </tr>\n",
              "  </thead>\n",
              "  <tbody>\n",
              "    <tr>\n",
              "      <th>24034</th>\n",
              "      <td>24035</td>\n",
              "      <td>2012</td>\n",
              "      <td>9</td>\n",
              "      <td>28</td>\n",
              "      <td>10</td>\n",
              "      <td>0.0</td>\n",
              "      <td>-5</td>\n",
              "      <td>20.0</td>\n",
              "      <td>1020.0</td>\n",
              "      <td>NW</td>\n",
              "      <td>139.48</td>\n",
              "      <td>0</td>\n",
              "      <td>0</td>\n",
              "    </tr>\n",
              "    <tr>\n",
              "      <th>24039</th>\n",
              "      <td>24040</td>\n",
              "      <td>2012</td>\n",
              "      <td>9</td>\n",
              "      <td>28</td>\n",
              "      <td>15</td>\n",
              "      <td>0.0</td>\n",
              "      <td>-10</td>\n",
              "      <td>24.0</td>\n",
              "      <td>1017.0</td>\n",
              "      <td>NW</td>\n",
              "      <td>192.68</td>\n",
              "      <td>0</td>\n",
              "      <td>0</td>\n",
              "    </tr>\n",
              "  </tbody>\n",
              "</table>\n",
              "</div>\n",
              "      <button class=\"colab-df-convert\" onclick=\"convertToInteractive('df-4820f7cc-7b48-45d7-b53a-ee346a2e9518')\"\n",
              "              title=\"Convert this dataframe to an interactive table.\"\n",
              "              style=\"display:none;\">\n",
              "        \n",
              "  <svg xmlns=\"http://www.w3.org/2000/svg\" height=\"24px\"viewBox=\"0 0 24 24\"\n",
              "       width=\"24px\">\n",
              "    <path d=\"M0 0h24v24H0V0z\" fill=\"none\"/>\n",
              "    <path d=\"M18.56 5.44l.94 2.06.94-2.06 2.06-.94-2.06-.94-.94-2.06-.94 2.06-2.06.94zm-11 1L8.5 8.5l.94-2.06 2.06-.94-2.06-.94L8.5 2.5l-.94 2.06-2.06.94zm10 10l.94 2.06.94-2.06 2.06-.94-2.06-.94-.94-2.06-.94 2.06-2.06.94z\"/><path d=\"M17.41 7.96l-1.37-1.37c-.4-.4-.92-.59-1.43-.59-.52 0-1.04.2-1.43.59L10.3 9.45l-7.72 7.72c-.78.78-.78 2.05 0 2.83L4 21.41c.39.39.9.59 1.41.59.51 0 1.02-.2 1.41-.59l7.78-7.78 2.81-2.81c.8-.78.8-2.07 0-2.86zM5.41 20L4 18.59l7.72-7.72 1.47 1.35L5.41 20z\"/>\n",
              "  </svg>\n",
              "      </button>\n",
              "      \n",
              "  <style>\n",
              "    .colab-df-container {\n",
              "      display:flex;\n",
              "      flex-wrap:wrap;\n",
              "      gap: 12px;\n",
              "    }\n",
              "\n",
              "    .colab-df-convert {\n",
              "      background-color: #E8F0FE;\n",
              "      border: none;\n",
              "      border-radius: 50%;\n",
              "      cursor: pointer;\n",
              "      display: none;\n",
              "      fill: #1967D2;\n",
              "      height: 32px;\n",
              "      padding: 0 0 0 0;\n",
              "      width: 32px;\n",
              "    }\n",
              "\n",
              "    .colab-df-convert:hover {\n",
              "      background-color: #E2EBFA;\n",
              "      box-shadow: 0px 1px 2px rgba(60, 64, 67, 0.3), 0px 1px 3px 1px rgba(60, 64, 67, 0.15);\n",
              "      fill: #174EA6;\n",
              "    }\n",
              "\n",
              "    [theme=dark] .colab-df-convert {\n",
              "      background-color: #3B4455;\n",
              "      fill: #D2E3FC;\n",
              "    }\n",
              "\n",
              "    [theme=dark] .colab-df-convert:hover {\n",
              "      background-color: #434B5C;\n",
              "      box-shadow: 0px 1px 3px 1px rgba(0, 0, 0, 0.15);\n",
              "      filter: drop-shadow(0px 1px 2px rgba(0, 0, 0, 0.3));\n",
              "      fill: #FFFFFF;\n",
              "    }\n",
              "  </style>\n",
              "\n",
              "      <script>\n",
              "        const buttonEl =\n",
              "          document.querySelector('#df-4820f7cc-7b48-45d7-b53a-ee346a2e9518 button.colab-df-convert');\n",
              "        buttonEl.style.display =\n",
              "          google.colab.kernel.accessAllowed ? 'block' : 'none';\n",
              "\n",
              "        async function convertToInteractive(key) {\n",
              "          const element = document.querySelector('#df-4820f7cc-7b48-45d7-b53a-ee346a2e9518');\n",
              "          const dataTable =\n",
              "            await google.colab.kernel.invokeFunction('convertToInteractive',\n",
              "                                                     [key], {});\n",
              "          if (!dataTable) return;\n",
              "\n",
              "          const docLinkHtml = 'Like what you see? Visit the ' +\n",
              "            '<a target=\"_blank\" href=https://colab.research.google.com/notebooks/data_table.ipynb>data table notebook</a>'\n",
              "            + ' to learn more about interactive tables.';\n",
              "          element.innerHTML = '';\n",
              "          dataTable['output_type'] = 'display_data';\n",
              "          await google.colab.output.renderOutput(dataTable, element);\n",
              "          const docLink = document.createElement('div');\n",
              "          docLink.innerHTML = docLinkHtml;\n",
              "          element.appendChild(docLink);\n",
              "        }\n",
              "      </script>\n",
              "    </div>\n",
              "  </div>\n",
              "  "
            ]
          },
          "metadata": {},
          "execution_count": 13
        }
      ]
    },
    {
      "cell_type": "code",
      "source": [
        "#Checking atypical values on pm2.5 column\n",
        "df.loc[df[\"pm2.5\"] == 1]"
      ],
      "metadata": {
        "colab": {
          "base_uri": "https://localhost:8080/",
          "height": 270
        },
        "id": "hpA8wvokQZNV",
        "outputId": "a06607c3-6db9-4bc5-fe0d-aa78f6653ea1"
      },
      "execution_count": 14,
      "outputs": [
        {
          "output_type": "execute_result",
          "data": {
            "text/plain": [
              "          No  year  month  day  hour  pm2.5  DEWP  TEMP    PRES cbwd     Iws  \\\n",
              "6315    6316  2010      9   21     3    1.0    13  14.0  1015.0   NE   48.73   \n",
              "21402  21403  2012      6   10    18    1.0    -2  29.0   999.0   NW   24.15   \n",
              "24040  24041  2012      9   28    16    1.0    -9  23.0  1016.0   NW  204.75   \n",
              "24041  24042  2012      9   28    17    1.0    -8  23.0  1016.0   NW  213.69   \n",
              "24075  24076  2012      9   30     3    1.0     6   9.0  1018.0   NW    3.13   \n",
              "\n",
              "       Is  Ir  \n",
              "6315    0   9  \n",
              "21402   0   0  \n",
              "24040   0   0  \n",
              "24041   0   0  \n",
              "24075   0   0  "
            ],
            "text/html": [
              "\n",
              "  <div id=\"df-dffd3c97-b07b-45e3-89bb-739631369097\">\n",
              "    <div class=\"colab-df-container\">\n",
              "      <div>\n",
              "<style scoped>\n",
              "    .dataframe tbody tr th:only-of-type {\n",
              "        vertical-align: middle;\n",
              "    }\n",
              "\n",
              "    .dataframe tbody tr th {\n",
              "        vertical-align: top;\n",
              "    }\n",
              "\n",
              "    .dataframe thead th {\n",
              "        text-align: right;\n",
              "    }\n",
              "</style>\n",
              "<table border=\"1\" class=\"dataframe\">\n",
              "  <thead>\n",
              "    <tr style=\"text-align: right;\">\n",
              "      <th></th>\n",
              "      <th>No</th>\n",
              "      <th>year</th>\n",
              "      <th>month</th>\n",
              "      <th>day</th>\n",
              "      <th>hour</th>\n",
              "      <th>pm2.5</th>\n",
              "      <th>DEWP</th>\n",
              "      <th>TEMP</th>\n",
              "      <th>PRES</th>\n",
              "      <th>cbwd</th>\n",
              "      <th>Iws</th>\n",
              "      <th>Is</th>\n",
              "      <th>Ir</th>\n",
              "    </tr>\n",
              "  </thead>\n",
              "  <tbody>\n",
              "    <tr>\n",
              "      <th>6315</th>\n",
              "      <td>6316</td>\n",
              "      <td>2010</td>\n",
              "      <td>9</td>\n",
              "      <td>21</td>\n",
              "      <td>3</td>\n",
              "      <td>1.0</td>\n",
              "      <td>13</td>\n",
              "      <td>14.0</td>\n",
              "      <td>1015.0</td>\n",
              "      <td>NE</td>\n",
              "      <td>48.73</td>\n",
              "      <td>0</td>\n",
              "      <td>9</td>\n",
              "    </tr>\n",
              "    <tr>\n",
              "      <th>21402</th>\n",
              "      <td>21403</td>\n",
              "      <td>2012</td>\n",
              "      <td>6</td>\n",
              "      <td>10</td>\n",
              "      <td>18</td>\n",
              "      <td>1.0</td>\n",
              "      <td>-2</td>\n",
              "      <td>29.0</td>\n",
              "      <td>999.0</td>\n",
              "      <td>NW</td>\n",
              "      <td>24.15</td>\n",
              "      <td>0</td>\n",
              "      <td>0</td>\n",
              "    </tr>\n",
              "    <tr>\n",
              "      <th>24040</th>\n",
              "      <td>24041</td>\n",
              "      <td>2012</td>\n",
              "      <td>9</td>\n",
              "      <td>28</td>\n",
              "      <td>16</td>\n",
              "      <td>1.0</td>\n",
              "      <td>-9</td>\n",
              "      <td>23.0</td>\n",
              "      <td>1016.0</td>\n",
              "      <td>NW</td>\n",
              "      <td>204.75</td>\n",
              "      <td>0</td>\n",
              "      <td>0</td>\n",
              "    </tr>\n",
              "    <tr>\n",
              "      <th>24041</th>\n",
              "      <td>24042</td>\n",
              "      <td>2012</td>\n",
              "      <td>9</td>\n",
              "      <td>28</td>\n",
              "      <td>17</td>\n",
              "      <td>1.0</td>\n",
              "      <td>-8</td>\n",
              "      <td>23.0</td>\n",
              "      <td>1016.0</td>\n",
              "      <td>NW</td>\n",
              "      <td>213.69</td>\n",
              "      <td>0</td>\n",
              "      <td>0</td>\n",
              "    </tr>\n",
              "    <tr>\n",
              "      <th>24075</th>\n",
              "      <td>24076</td>\n",
              "      <td>2012</td>\n",
              "      <td>9</td>\n",
              "      <td>30</td>\n",
              "      <td>3</td>\n",
              "      <td>1.0</td>\n",
              "      <td>6</td>\n",
              "      <td>9.0</td>\n",
              "      <td>1018.0</td>\n",
              "      <td>NW</td>\n",
              "      <td>3.13</td>\n",
              "      <td>0</td>\n",
              "      <td>0</td>\n",
              "    </tr>\n",
              "  </tbody>\n",
              "</table>\n",
              "</div>\n",
              "      <button class=\"colab-df-convert\" onclick=\"convertToInteractive('df-dffd3c97-b07b-45e3-89bb-739631369097')\"\n",
              "              title=\"Convert this dataframe to an interactive table.\"\n",
              "              style=\"display:none;\">\n",
              "        \n",
              "  <svg xmlns=\"http://www.w3.org/2000/svg\" height=\"24px\"viewBox=\"0 0 24 24\"\n",
              "       width=\"24px\">\n",
              "    <path d=\"M0 0h24v24H0V0z\" fill=\"none\"/>\n",
              "    <path d=\"M18.56 5.44l.94 2.06.94-2.06 2.06-.94-2.06-.94-.94-2.06-.94 2.06-2.06.94zm-11 1L8.5 8.5l.94-2.06 2.06-.94-2.06-.94L8.5 2.5l-.94 2.06-2.06.94zm10 10l.94 2.06.94-2.06 2.06-.94-2.06-.94-.94-2.06-.94 2.06-2.06.94z\"/><path d=\"M17.41 7.96l-1.37-1.37c-.4-.4-.92-.59-1.43-.59-.52 0-1.04.2-1.43.59L10.3 9.45l-7.72 7.72c-.78.78-.78 2.05 0 2.83L4 21.41c.39.39.9.59 1.41.59.51 0 1.02-.2 1.41-.59l7.78-7.78 2.81-2.81c.8-.78.8-2.07 0-2.86zM5.41 20L4 18.59l7.72-7.72 1.47 1.35L5.41 20z\"/>\n",
              "  </svg>\n",
              "      </button>\n",
              "      \n",
              "  <style>\n",
              "    .colab-df-container {\n",
              "      display:flex;\n",
              "      flex-wrap:wrap;\n",
              "      gap: 12px;\n",
              "    }\n",
              "\n",
              "    .colab-df-convert {\n",
              "      background-color: #E8F0FE;\n",
              "      border: none;\n",
              "      border-radius: 50%;\n",
              "      cursor: pointer;\n",
              "      display: none;\n",
              "      fill: #1967D2;\n",
              "      height: 32px;\n",
              "      padding: 0 0 0 0;\n",
              "      width: 32px;\n",
              "    }\n",
              "\n",
              "    .colab-df-convert:hover {\n",
              "      background-color: #E2EBFA;\n",
              "      box-shadow: 0px 1px 2px rgba(60, 64, 67, 0.3), 0px 1px 3px 1px rgba(60, 64, 67, 0.15);\n",
              "      fill: #174EA6;\n",
              "    }\n",
              "\n",
              "    [theme=dark] .colab-df-convert {\n",
              "      background-color: #3B4455;\n",
              "      fill: #D2E3FC;\n",
              "    }\n",
              "\n",
              "    [theme=dark] .colab-df-convert:hover {\n",
              "      background-color: #434B5C;\n",
              "      box-shadow: 0px 1px 3px 1px rgba(0, 0, 0, 0.15);\n",
              "      filter: drop-shadow(0px 1px 2px rgba(0, 0, 0, 0.3));\n",
              "      fill: #FFFFFF;\n",
              "    }\n",
              "  </style>\n",
              "\n",
              "      <script>\n",
              "        const buttonEl =\n",
              "          document.querySelector('#df-dffd3c97-b07b-45e3-89bb-739631369097 button.colab-df-convert');\n",
              "        buttonEl.style.display =\n",
              "          google.colab.kernel.accessAllowed ? 'block' : 'none';\n",
              "\n",
              "        async function convertToInteractive(key) {\n",
              "          const element = document.querySelector('#df-dffd3c97-b07b-45e3-89bb-739631369097');\n",
              "          const dataTable =\n",
              "            await google.colab.kernel.invokeFunction('convertToInteractive',\n",
              "                                                     [key], {});\n",
              "          if (!dataTable) return;\n",
              "\n",
              "          const docLinkHtml = 'Like what you see? Visit the ' +\n",
              "            '<a target=\"_blank\" href=https://colab.research.google.com/notebooks/data_table.ipynb>data table notebook</a>'\n",
              "            + ' to learn more about interactive tables.';\n",
              "          element.innerHTML = '';\n",
              "          dataTable['output_type'] = 'display_data';\n",
              "          await google.colab.output.renderOutput(dataTable, element);\n",
              "          const docLink = document.createElement('div');\n",
              "          docLink.innerHTML = docLinkHtml;\n",
              "          element.appendChild(docLink);\n",
              "        }\n",
              "      </script>\n",
              "    </div>\n",
              "  </div>\n",
              "  "
            ]
          },
          "metadata": {},
          "execution_count": 14
        }
      ]
    },
    {
      "cell_type": "code",
      "source": [
        "#Checking atypical values on pm2.5 column\n",
        "df.loc[df[\"pm2.5\"] == 2]"
      ],
      "metadata": {
        "colab": {
          "base_uri": "https://localhost:8080/",
          "height": 866
        },
        "id": "dVt7otZ9Qo8e",
        "outputId": "3fdd3afa-e4c6-45ea-9a2d-13608a8cd694"
      },
      "execution_count": 15,
      "outputs": [
        {
          "output_type": "execute_result",
          "data": {
            "text/plain": [
              "          No  year  month  day  hour  pm2.5  DEWP  TEMP    PRES cbwd     Iws  \\\n",
              "4476    4477  2010      7    6    12    2.0     5  38.0  1001.0   cv    3.58   \n",
              "6800    6801  2010     10   11     8    2.0     8  14.0  1017.0   NE    3.13   \n",
              "6870    6871  2010     10   14     6    2.0     1   9.0  1020.0   NW    9.84   \n",
              "9437    9438  2011      1   29     5    2.0   -25 -11.0  1036.0   NW  117.13   \n",
              "14261  14262  2011      8   18     5    2.0    19  20.0  1010.0   cv    1.78   \n",
              "21401  21402  2012      6   10    17    2.0    -2  29.0   999.0   NW   21.02   \n",
              "24027  24028  2012      9   28     3    2.0     1  16.0  1018.0   NW   69.29   \n",
              "24030  24031  2012      9   28     6    2.0    -1  15.0  1019.0   NW   96.11   \n",
              "24031  24032  2012      9   28     7    2.0    -3  16.0  1019.0   NW  107.29   \n",
              "24038  24039  2012      9   28    14    2.0    -8  24.0  1017.0   NW  181.50   \n",
              "24042  24043  2012      9   28    18    2.0    -6  20.0  1017.0   NW  219.50   \n",
              "24048  24049  2012      9   29     0    2.0    -3  17.0  1019.0   NW  252.14   \n",
              "24059  24060  2012      9   29    11    2.0    -1  23.0  1019.0   NW    7.15   \n",
              "24074  24075  2012      9   30     2    2.0     6  11.0  1019.0   NE    3.58   \n",
              "24312  24313  2012     10   10     0    2.0    -1  15.0  1020.0   NW  144.38   \n",
              "34250  34251  2013     11   28     2    2.0   -28  -4.0  1028.0   NW  341.06   \n",
              "40244  40245  2014      8    4    20    2.0    18  22.0  1006.0   NW    1.79   \n",
              "40245  40246  2014      8    4    21    2.0    18  21.0  1007.0   NW    4.92   \n",
              "40287  40288  2014      8    6    15    2.0    10  33.0  1006.0   NE   21.01   \n",
              "41065  41066  2014      9    8     1    2.0    16  20.0  1010.0   NW   13.86   \n",
              "41066  41067  2014      9    8     2    2.0    10  19.0  1010.0   NW   16.99   \n",
              "42390  42391  2014     11    2     6    2.0   -10   8.0  1023.0   NW  147.51   \n",
              "42626  42627  2014     11   12     2    2.0   -15   6.0  1023.0   NW  156.03   \n",
              "42627  42628  2014     11   12     3    2.0   -16   6.0  1023.0   NW  161.84   \n",
              "\n",
              "       Is  Ir  \n",
              "4476    0   0  \n",
              "6800    0   0  \n",
              "6870    0   0  \n",
              "9437    0   0  \n",
              "14261   0   0  \n",
              "21401   0   0  \n",
              "24027   0   0  \n",
              "24030   0   0  \n",
              "24031   0   0  \n",
              "24038   0   0  \n",
              "24042   0   0  \n",
              "24048   0   0  \n",
              "24059   0   0  \n",
              "24074   0   0  \n",
              "24312   0   0  \n",
              "34250   0   0  \n",
              "40244   0   0  \n",
              "40245   0   0  \n",
              "40287   0   0  \n",
              "41065   0   0  \n",
              "41066   0   0  \n",
              "42390   0   0  \n",
              "42626   0   0  \n",
              "42627   0   0  "
            ],
            "text/html": [
              "\n",
              "  <div id=\"df-0e000e46-1562-4743-aa7c-c8089ce4a874\">\n",
              "    <div class=\"colab-df-container\">\n",
              "      <div>\n",
              "<style scoped>\n",
              "    .dataframe tbody tr th:only-of-type {\n",
              "        vertical-align: middle;\n",
              "    }\n",
              "\n",
              "    .dataframe tbody tr th {\n",
              "        vertical-align: top;\n",
              "    }\n",
              "\n",
              "    .dataframe thead th {\n",
              "        text-align: right;\n",
              "    }\n",
              "</style>\n",
              "<table border=\"1\" class=\"dataframe\">\n",
              "  <thead>\n",
              "    <tr style=\"text-align: right;\">\n",
              "      <th></th>\n",
              "      <th>No</th>\n",
              "      <th>year</th>\n",
              "      <th>month</th>\n",
              "      <th>day</th>\n",
              "      <th>hour</th>\n",
              "      <th>pm2.5</th>\n",
              "      <th>DEWP</th>\n",
              "      <th>TEMP</th>\n",
              "      <th>PRES</th>\n",
              "      <th>cbwd</th>\n",
              "      <th>Iws</th>\n",
              "      <th>Is</th>\n",
              "      <th>Ir</th>\n",
              "    </tr>\n",
              "  </thead>\n",
              "  <tbody>\n",
              "    <tr>\n",
              "      <th>4476</th>\n",
              "      <td>4477</td>\n",
              "      <td>2010</td>\n",
              "      <td>7</td>\n",
              "      <td>6</td>\n",
              "      <td>12</td>\n",
              "      <td>2.0</td>\n",
              "      <td>5</td>\n",
              "      <td>38.0</td>\n",
              "      <td>1001.0</td>\n",
              "      <td>cv</td>\n",
              "      <td>3.58</td>\n",
              "      <td>0</td>\n",
              "      <td>0</td>\n",
              "    </tr>\n",
              "    <tr>\n",
              "      <th>6800</th>\n",
              "      <td>6801</td>\n",
              "      <td>2010</td>\n",
              "      <td>10</td>\n",
              "      <td>11</td>\n",
              "      <td>8</td>\n",
              "      <td>2.0</td>\n",
              "      <td>8</td>\n",
              "      <td>14.0</td>\n",
              "      <td>1017.0</td>\n",
              "      <td>NE</td>\n",
              "      <td>3.13</td>\n",
              "      <td>0</td>\n",
              "      <td>0</td>\n",
              "    </tr>\n",
              "    <tr>\n",
              "      <th>6870</th>\n",
              "      <td>6871</td>\n",
              "      <td>2010</td>\n",
              "      <td>10</td>\n",
              "      <td>14</td>\n",
              "      <td>6</td>\n",
              "      <td>2.0</td>\n",
              "      <td>1</td>\n",
              "      <td>9.0</td>\n",
              "      <td>1020.0</td>\n",
              "      <td>NW</td>\n",
              "      <td>9.84</td>\n",
              "      <td>0</td>\n",
              "      <td>0</td>\n",
              "    </tr>\n",
              "    <tr>\n",
              "      <th>9437</th>\n",
              "      <td>9438</td>\n",
              "      <td>2011</td>\n",
              "      <td>1</td>\n",
              "      <td>29</td>\n",
              "      <td>5</td>\n",
              "      <td>2.0</td>\n",
              "      <td>-25</td>\n",
              "      <td>-11.0</td>\n",
              "      <td>1036.0</td>\n",
              "      <td>NW</td>\n",
              "      <td>117.13</td>\n",
              "      <td>0</td>\n",
              "      <td>0</td>\n",
              "    </tr>\n",
              "    <tr>\n",
              "      <th>14261</th>\n",
              "      <td>14262</td>\n",
              "      <td>2011</td>\n",
              "      <td>8</td>\n",
              "      <td>18</td>\n",
              "      <td>5</td>\n",
              "      <td>2.0</td>\n",
              "      <td>19</td>\n",
              "      <td>20.0</td>\n",
              "      <td>1010.0</td>\n",
              "      <td>cv</td>\n",
              "      <td>1.78</td>\n",
              "      <td>0</td>\n",
              "      <td>0</td>\n",
              "    </tr>\n",
              "    <tr>\n",
              "      <th>21401</th>\n",
              "      <td>21402</td>\n",
              "      <td>2012</td>\n",
              "      <td>6</td>\n",
              "      <td>10</td>\n",
              "      <td>17</td>\n",
              "      <td>2.0</td>\n",
              "      <td>-2</td>\n",
              "      <td>29.0</td>\n",
              "      <td>999.0</td>\n",
              "      <td>NW</td>\n",
              "      <td>21.02</td>\n",
              "      <td>0</td>\n",
              "      <td>0</td>\n",
              "    </tr>\n",
              "    <tr>\n",
              "      <th>24027</th>\n",
              "      <td>24028</td>\n",
              "      <td>2012</td>\n",
              "      <td>9</td>\n",
              "      <td>28</td>\n",
              "      <td>3</td>\n",
              "      <td>2.0</td>\n",
              "      <td>1</td>\n",
              "      <td>16.0</td>\n",
              "      <td>1018.0</td>\n",
              "      <td>NW</td>\n",
              "      <td>69.29</td>\n",
              "      <td>0</td>\n",
              "      <td>0</td>\n",
              "    </tr>\n",
              "    <tr>\n",
              "      <th>24030</th>\n",
              "      <td>24031</td>\n",
              "      <td>2012</td>\n",
              "      <td>9</td>\n",
              "      <td>28</td>\n",
              "      <td>6</td>\n",
              "      <td>2.0</td>\n",
              "      <td>-1</td>\n",
              "      <td>15.0</td>\n",
              "      <td>1019.0</td>\n",
              "      <td>NW</td>\n",
              "      <td>96.11</td>\n",
              "      <td>0</td>\n",
              "      <td>0</td>\n",
              "    </tr>\n",
              "    <tr>\n",
              "      <th>24031</th>\n",
              "      <td>24032</td>\n",
              "      <td>2012</td>\n",
              "      <td>9</td>\n",
              "      <td>28</td>\n",
              "      <td>7</td>\n",
              "      <td>2.0</td>\n",
              "      <td>-3</td>\n",
              "      <td>16.0</td>\n",
              "      <td>1019.0</td>\n",
              "      <td>NW</td>\n",
              "      <td>107.29</td>\n",
              "      <td>0</td>\n",
              "      <td>0</td>\n",
              "    </tr>\n",
              "    <tr>\n",
              "      <th>24038</th>\n",
              "      <td>24039</td>\n",
              "      <td>2012</td>\n",
              "      <td>9</td>\n",
              "      <td>28</td>\n",
              "      <td>14</td>\n",
              "      <td>2.0</td>\n",
              "      <td>-8</td>\n",
              "      <td>24.0</td>\n",
              "      <td>1017.0</td>\n",
              "      <td>NW</td>\n",
              "      <td>181.50</td>\n",
              "      <td>0</td>\n",
              "      <td>0</td>\n",
              "    </tr>\n",
              "    <tr>\n",
              "      <th>24042</th>\n",
              "      <td>24043</td>\n",
              "      <td>2012</td>\n",
              "      <td>9</td>\n",
              "      <td>28</td>\n",
              "      <td>18</td>\n",
              "      <td>2.0</td>\n",
              "      <td>-6</td>\n",
              "      <td>20.0</td>\n",
              "      <td>1017.0</td>\n",
              "      <td>NW</td>\n",
              "      <td>219.50</td>\n",
              "      <td>0</td>\n",
              "      <td>0</td>\n",
              "    </tr>\n",
              "    <tr>\n",
              "      <th>24048</th>\n",
              "      <td>24049</td>\n",
              "      <td>2012</td>\n",
              "      <td>9</td>\n",
              "      <td>29</td>\n",
              "      <td>0</td>\n",
              "      <td>2.0</td>\n",
              "      <td>-3</td>\n",
              "      <td>17.0</td>\n",
              "      <td>1019.0</td>\n",
              "      <td>NW</td>\n",
              "      <td>252.14</td>\n",
              "      <td>0</td>\n",
              "      <td>0</td>\n",
              "    </tr>\n",
              "    <tr>\n",
              "      <th>24059</th>\n",
              "      <td>24060</td>\n",
              "      <td>2012</td>\n",
              "      <td>9</td>\n",
              "      <td>29</td>\n",
              "      <td>11</td>\n",
              "      <td>2.0</td>\n",
              "      <td>-1</td>\n",
              "      <td>23.0</td>\n",
              "      <td>1019.0</td>\n",
              "      <td>NW</td>\n",
              "      <td>7.15</td>\n",
              "      <td>0</td>\n",
              "      <td>0</td>\n",
              "    </tr>\n",
              "    <tr>\n",
              "      <th>24074</th>\n",
              "      <td>24075</td>\n",
              "      <td>2012</td>\n",
              "      <td>9</td>\n",
              "      <td>30</td>\n",
              "      <td>2</td>\n",
              "      <td>2.0</td>\n",
              "      <td>6</td>\n",
              "      <td>11.0</td>\n",
              "      <td>1019.0</td>\n",
              "      <td>NE</td>\n",
              "      <td>3.58</td>\n",
              "      <td>0</td>\n",
              "      <td>0</td>\n",
              "    </tr>\n",
              "    <tr>\n",
              "      <th>24312</th>\n",
              "      <td>24313</td>\n",
              "      <td>2012</td>\n",
              "      <td>10</td>\n",
              "      <td>10</td>\n",
              "      <td>0</td>\n",
              "      <td>2.0</td>\n",
              "      <td>-1</td>\n",
              "      <td>15.0</td>\n",
              "      <td>1020.0</td>\n",
              "      <td>NW</td>\n",
              "      <td>144.38</td>\n",
              "      <td>0</td>\n",
              "      <td>0</td>\n",
              "    </tr>\n",
              "    <tr>\n",
              "      <th>34250</th>\n",
              "      <td>34251</td>\n",
              "      <td>2013</td>\n",
              "      <td>11</td>\n",
              "      <td>28</td>\n",
              "      <td>2</td>\n",
              "      <td>2.0</td>\n",
              "      <td>-28</td>\n",
              "      <td>-4.0</td>\n",
              "      <td>1028.0</td>\n",
              "      <td>NW</td>\n",
              "      <td>341.06</td>\n",
              "      <td>0</td>\n",
              "      <td>0</td>\n",
              "    </tr>\n",
              "    <tr>\n",
              "      <th>40244</th>\n",
              "      <td>40245</td>\n",
              "      <td>2014</td>\n",
              "      <td>8</td>\n",
              "      <td>4</td>\n",
              "      <td>20</td>\n",
              "      <td>2.0</td>\n",
              "      <td>18</td>\n",
              "      <td>22.0</td>\n",
              "      <td>1006.0</td>\n",
              "      <td>NW</td>\n",
              "      <td>1.79</td>\n",
              "      <td>0</td>\n",
              "      <td>0</td>\n",
              "    </tr>\n",
              "    <tr>\n",
              "      <th>40245</th>\n",
              "      <td>40246</td>\n",
              "      <td>2014</td>\n",
              "      <td>8</td>\n",
              "      <td>4</td>\n",
              "      <td>21</td>\n",
              "      <td>2.0</td>\n",
              "      <td>18</td>\n",
              "      <td>21.0</td>\n",
              "      <td>1007.0</td>\n",
              "      <td>NW</td>\n",
              "      <td>4.92</td>\n",
              "      <td>0</td>\n",
              "      <td>0</td>\n",
              "    </tr>\n",
              "    <tr>\n",
              "      <th>40287</th>\n",
              "      <td>40288</td>\n",
              "      <td>2014</td>\n",
              "      <td>8</td>\n",
              "      <td>6</td>\n",
              "      <td>15</td>\n",
              "      <td>2.0</td>\n",
              "      <td>10</td>\n",
              "      <td>33.0</td>\n",
              "      <td>1006.0</td>\n",
              "      <td>NE</td>\n",
              "      <td>21.01</td>\n",
              "      <td>0</td>\n",
              "      <td>0</td>\n",
              "    </tr>\n",
              "    <tr>\n",
              "      <th>41065</th>\n",
              "      <td>41066</td>\n",
              "      <td>2014</td>\n",
              "      <td>9</td>\n",
              "      <td>8</td>\n",
              "      <td>1</td>\n",
              "      <td>2.0</td>\n",
              "      <td>16</td>\n",
              "      <td>20.0</td>\n",
              "      <td>1010.0</td>\n",
              "      <td>NW</td>\n",
              "      <td>13.86</td>\n",
              "      <td>0</td>\n",
              "      <td>0</td>\n",
              "    </tr>\n",
              "    <tr>\n",
              "      <th>41066</th>\n",
              "      <td>41067</td>\n",
              "      <td>2014</td>\n",
              "      <td>9</td>\n",
              "      <td>8</td>\n",
              "      <td>2</td>\n",
              "      <td>2.0</td>\n",
              "      <td>10</td>\n",
              "      <td>19.0</td>\n",
              "      <td>1010.0</td>\n",
              "      <td>NW</td>\n",
              "      <td>16.99</td>\n",
              "      <td>0</td>\n",
              "      <td>0</td>\n",
              "    </tr>\n",
              "    <tr>\n",
              "      <th>42390</th>\n",
              "      <td>42391</td>\n",
              "      <td>2014</td>\n",
              "      <td>11</td>\n",
              "      <td>2</td>\n",
              "      <td>6</td>\n",
              "      <td>2.0</td>\n",
              "      <td>-10</td>\n",
              "      <td>8.0</td>\n",
              "      <td>1023.0</td>\n",
              "      <td>NW</td>\n",
              "      <td>147.51</td>\n",
              "      <td>0</td>\n",
              "      <td>0</td>\n",
              "    </tr>\n",
              "    <tr>\n",
              "      <th>42626</th>\n",
              "      <td>42627</td>\n",
              "      <td>2014</td>\n",
              "      <td>11</td>\n",
              "      <td>12</td>\n",
              "      <td>2</td>\n",
              "      <td>2.0</td>\n",
              "      <td>-15</td>\n",
              "      <td>6.0</td>\n",
              "      <td>1023.0</td>\n",
              "      <td>NW</td>\n",
              "      <td>156.03</td>\n",
              "      <td>0</td>\n",
              "      <td>0</td>\n",
              "    </tr>\n",
              "    <tr>\n",
              "      <th>42627</th>\n",
              "      <td>42628</td>\n",
              "      <td>2014</td>\n",
              "      <td>11</td>\n",
              "      <td>12</td>\n",
              "      <td>3</td>\n",
              "      <td>2.0</td>\n",
              "      <td>-16</td>\n",
              "      <td>6.0</td>\n",
              "      <td>1023.0</td>\n",
              "      <td>NW</td>\n",
              "      <td>161.84</td>\n",
              "      <td>0</td>\n",
              "      <td>0</td>\n",
              "    </tr>\n",
              "  </tbody>\n",
              "</table>\n",
              "</div>\n",
              "      <button class=\"colab-df-convert\" onclick=\"convertToInteractive('df-0e000e46-1562-4743-aa7c-c8089ce4a874')\"\n",
              "              title=\"Convert this dataframe to an interactive table.\"\n",
              "              style=\"display:none;\">\n",
              "        \n",
              "  <svg xmlns=\"http://www.w3.org/2000/svg\" height=\"24px\"viewBox=\"0 0 24 24\"\n",
              "       width=\"24px\">\n",
              "    <path d=\"M0 0h24v24H0V0z\" fill=\"none\"/>\n",
              "    <path d=\"M18.56 5.44l.94 2.06.94-2.06 2.06-.94-2.06-.94-.94-2.06-.94 2.06-2.06.94zm-11 1L8.5 8.5l.94-2.06 2.06-.94-2.06-.94L8.5 2.5l-.94 2.06-2.06.94zm10 10l.94 2.06.94-2.06 2.06-.94-2.06-.94-.94-2.06-.94 2.06-2.06.94z\"/><path d=\"M17.41 7.96l-1.37-1.37c-.4-.4-.92-.59-1.43-.59-.52 0-1.04.2-1.43.59L10.3 9.45l-7.72 7.72c-.78.78-.78 2.05 0 2.83L4 21.41c.39.39.9.59 1.41.59.51 0 1.02-.2 1.41-.59l7.78-7.78 2.81-2.81c.8-.78.8-2.07 0-2.86zM5.41 20L4 18.59l7.72-7.72 1.47 1.35L5.41 20z\"/>\n",
              "  </svg>\n",
              "      </button>\n",
              "      \n",
              "  <style>\n",
              "    .colab-df-container {\n",
              "      display:flex;\n",
              "      flex-wrap:wrap;\n",
              "      gap: 12px;\n",
              "    }\n",
              "\n",
              "    .colab-df-convert {\n",
              "      background-color: #E8F0FE;\n",
              "      border: none;\n",
              "      border-radius: 50%;\n",
              "      cursor: pointer;\n",
              "      display: none;\n",
              "      fill: #1967D2;\n",
              "      height: 32px;\n",
              "      padding: 0 0 0 0;\n",
              "      width: 32px;\n",
              "    }\n",
              "\n",
              "    .colab-df-convert:hover {\n",
              "      background-color: #E2EBFA;\n",
              "      box-shadow: 0px 1px 2px rgba(60, 64, 67, 0.3), 0px 1px 3px 1px rgba(60, 64, 67, 0.15);\n",
              "      fill: #174EA6;\n",
              "    }\n",
              "\n",
              "    [theme=dark] .colab-df-convert {\n",
              "      background-color: #3B4455;\n",
              "      fill: #D2E3FC;\n",
              "    }\n",
              "\n",
              "    [theme=dark] .colab-df-convert:hover {\n",
              "      background-color: #434B5C;\n",
              "      box-shadow: 0px 1px 3px 1px rgba(0, 0, 0, 0.15);\n",
              "      filter: drop-shadow(0px 1px 2px rgba(0, 0, 0, 0.3));\n",
              "      fill: #FFFFFF;\n",
              "    }\n",
              "  </style>\n",
              "\n",
              "      <script>\n",
              "        const buttonEl =\n",
              "          document.querySelector('#df-0e000e46-1562-4743-aa7c-c8089ce4a874 button.colab-df-convert');\n",
              "        buttonEl.style.display =\n",
              "          google.colab.kernel.accessAllowed ? 'block' : 'none';\n",
              "\n",
              "        async function convertToInteractive(key) {\n",
              "          const element = document.querySelector('#df-0e000e46-1562-4743-aa7c-c8089ce4a874');\n",
              "          const dataTable =\n",
              "            await google.colab.kernel.invokeFunction('convertToInteractive',\n",
              "                                                     [key], {});\n",
              "          if (!dataTable) return;\n",
              "\n",
              "          const docLinkHtml = 'Like what you see? Visit the ' +\n",
              "            '<a target=\"_blank\" href=https://colab.research.google.com/notebooks/data_table.ipynb>data table notebook</a>'\n",
              "            + ' to learn more about interactive tables.';\n",
              "          element.innerHTML = '';\n",
              "          dataTable['output_type'] = 'display_data';\n",
              "          await google.colab.output.renderOutput(dataTable, element);\n",
              "          const docLink = document.createElement('div');\n",
              "          docLink.innerHTML = docLinkHtml;\n",
              "          element.appendChild(docLink);\n",
              "        }\n",
              "      </script>\n",
              "    </div>\n",
              "  </div>\n",
              "  "
            ]
          },
          "metadata": {},
          "execution_count": 15
        }
      ]
    },
    {
      "cell_type": "code",
      "source": [
        "#Decided not to eliminate these measurements, since I see the average and the info of the describe() method, don't see anything out of the ordinary, comparing it with measurements from another city.\n",
        "#for more check this url, this are the measurements form Quito.\n",
        "#url:http://www.quitoambiente.gob.ec/images/Secretaria_Ambiente/red_monitoreo/informacion/Informe_Calidad_Aire_2018.pdf . Pages: 29"
      ],
      "metadata": {
        "id": "ja2k4LomakIJ"
      },
      "execution_count": 16,
      "outputs": []
    },
    {
      "cell_type": "code",
      "source": [
        "#Addressing NaN values\n",
        "df[\"pm2.5\"].interpolate(method=\"linear\", inplace=True)"
      ],
      "metadata": {
        "id": "yYD7ns1mF8E_"
      },
      "execution_count": 17,
      "outputs": []
    },
    {
      "cell_type": "code",
      "source": [
        "#Looking if there are any NaN values left\n",
        "df.isna().sum()"
      ],
      "metadata": {
        "colab": {
          "base_uri": "https://localhost:8080/"
        },
        "id": "d16Iide5IdhP",
        "outputId": "3b2ab370-a878-41ce-ddbf-6bfba63e668b"
      },
      "execution_count": 18,
      "outputs": [
        {
          "output_type": "execute_result",
          "data": {
            "text/plain": [
              "No        0\n",
              "year      0\n",
              "month     0\n",
              "day       0\n",
              "hour      0\n",
              "pm2.5    24\n",
              "DEWP      0\n",
              "TEMP      0\n",
              "PRES      0\n",
              "cbwd      0\n",
              "Iws       0\n",
              "Is        0\n",
              "Ir        0\n",
              "dtype: int64"
            ]
          },
          "metadata": {},
          "execution_count": 18
        }
      ]
    },
    {
      "cell_type": "code",
      "source": [
        "#Looking if there are any NaN values left\n",
        "df[\"pm2.5\"].isna"
      ],
      "metadata": {
        "colab": {
          "base_uri": "https://localhost:8080/"
        },
        "id": "lc_LiGU6Imru",
        "outputId": "f91e9e25-4a5f-4216-a43e-db837ca6ed9a"
      },
      "execution_count": 19,
      "outputs": [
        {
          "output_type": "execute_result",
          "data": {
            "text/plain": [
              "<bound method Series.isna of 0         NaN\n",
              "1         NaN\n",
              "2         NaN\n",
              "3         NaN\n",
              "4         NaN\n",
              "         ... \n",
              "43819     8.0\n",
              "43820    10.0\n",
              "43821    10.0\n",
              "43822     8.0\n",
              "43823    12.0\n",
              "Name: pm2.5, Length: 43824, dtype: float64>"
            ]
          },
          "metadata": {},
          "execution_count": 19
        }
      ]
    },
    {
      "cell_type": "code",
      "source": [
        "#Dropping those NaN values left\n",
        "df.dropna(subset=[\"pm2.5\"], inplace=True)\n",
        "df.isna().sum()"
      ],
      "metadata": {
        "colab": {
          "base_uri": "https://localhost:8080/"
        },
        "id": "sk8dAJtWKGVj",
        "outputId": "0d3b3e35-dd08-4e6f-a21f-1db912379258"
      },
      "execution_count": 20,
      "outputs": [
        {
          "output_type": "execute_result",
          "data": {
            "text/plain": [
              "No       0\n",
              "year     0\n",
              "month    0\n",
              "day      0\n",
              "hour     0\n",
              "pm2.5    0\n",
              "DEWP     0\n",
              "TEMP     0\n",
              "PRES     0\n",
              "cbwd     0\n",
              "Iws      0\n",
              "Is       0\n",
              "Ir       0\n",
              "dtype: int64"
            ]
          },
          "metadata": {},
          "execution_count": 20
        }
      ]
    },
    {
      "cell_type": "code",
      "source": [
        "#Drop those 24 values, cause they represent the values from one day, so, it is not that much difference."
      ],
      "metadata": {
        "id": "AvVOlG2vG1DE"
      },
      "execution_count": 21,
      "outputs": []
    },
    {
      "cell_type": "code",
      "source": [
        "df.head()"
      ],
      "metadata": {
        "colab": {
          "base_uri": "https://localhost:8080/",
          "height": 206
        },
        "id": "Gtf3fh4NIxEI",
        "outputId": "6ba6807b-4a26-4fdd-9a9f-7a67b77b446b"
      },
      "execution_count": 22,
      "outputs": [
        {
          "output_type": "execute_result",
          "data": {
            "text/plain": [
              "    No  year  month  day  hour  pm2.5  DEWP  TEMP    PRES cbwd   Iws  Is  Ir\n",
              "24  25  2010      1    2     0  129.0   -16  -4.0  1020.0   SE  1.79   0   0\n",
              "25  26  2010      1    2     1  148.0   -15  -4.0  1020.0   SE  2.68   0   0\n",
              "26  27  2010      1    2     2  159.0   -11  -5.0  1021.0   SE  3.57   0   0\n",
              "27  28  2010      1    2     3  181.0    -7  -5.0  1022.0   SE  5.36   1   0\n",
              "28  29  2010      1    2     4  138.0    -7  -5.0  1022.0   SE  6.25   2   0"
            ],
            "text/html": [
              "\n",
              "  <div id=\"df-965e4de6-9f0b-4ad3-8ebf-a37ac40abb34\">\n",
              "    <div class=\"colab-df-container\">\n",
              "      <div>\n",
              "<style scoped>\n",
              "    .dataframe tbody tr th:only-of-type {\n",
              "        vertical-align: middle;\n",
              "    }\n",
              "\n",
              "    .dataframe tbody tr th {\n",
              "        vertical-align: top;\n",
              "    }\n",
              "\n",
              "    .dataframe thead th {\n",
              "        text-align: right;\n",
              "    }\n",
              "</style>\n",
              "<table border=\"1\" class=\"dataframe\">\n",
              "  <thead>\n",
              "    <tr style=\"text-align: right;\">\n",
              "      <th></th>\n",
              "      <th>No</th>\n",
              "      <th>year</th>\n",
              "      <th>month</th>\n",
              "      <th>day</th>\n",
              "      <th>hour</th>\n",
              "      <th>pm2.5</th>\n",
              "      <th>DEWP</th>\n",
              "      <th>TEMP</th>\n",
              "      <th>PRES</th>\n",
              "      <th>cbwd</th>\n",
              "      <th>Iws</th>\n",
              "      <th>Is</th>\n",
              "      <th>Ir</th>\n",
              "    </tr>\n",
              "  </thead>\n",
              "  <tbody>\n",
              "    <tr>\n",
              "      <th>24</th>\n",
              "      <td>25</td>\n",
              "      <td>2010</td>\n",
              "      <td>1</td>\n",
              "      <td>2</td>\n",
              "      <td>0</td>\n",
              "      <td>129.0</td>\n",
              "      <td>-16</td>\n",
              "      <td>-4.0</td>\n",
              "      <td>1020.0</td>\n",
              "      <td>SE</td>\n",
              "      <td>1.79</td>\n",
              "      <td>0</td>\n",
              "      <td>0</td>\n",
              "    </tr>\n",
              "    <tr>\n",
              "      <th>25</th>\n",
              "      <td>26</td>\n",
              "      <td>2010</td>\n",
              "      <td>1</td>\n",
              "      <td>2</td>\n",
              "      <td>1</td>\n",
              "      <td>148.0</td>\n",
              "      <td>-15</td>\n",
              "      <td>-4.0</td>\n",
              "      <td>1020.0</td>\n",
              "      <td>SE</td>\n",
              "      <td>2.68</td>\n",
              "      <td>0</td>\n",
              "      <td>0</td>\n",
              "    </tr>\n",
              "    <tr>\n",
              "      <th>26</th>\n",
              "      <td>27</td>\n",
              "      <td>2010</td>\n",
              "      <td>1</td>\n",
              "      <td>2</td>\n",
              "      <td>2</td>\n",
              "      <td>159.0</td>\n",
              "      <td>-11</td>\n",
              "      <td>-5.0</td>\n",
              "      <td>1021.0</td>\n",
              "      <td>SE</td>\n",
              "      <td>3.57</td>\n",
              "      <td>0</td>\n",
              "      <td>0</td>\n",
              "    </tr>\n",
              "    <tr>\n",
              "      <th>27</th>\n",
              "      <td>28</td>\n",
              "      <td>2010</td>\n",
              "      <td>1</td>\n",
              "      <td>2</td>\n",
              "      <td>3</td>\n",
              "      <td>181.0</td>\n",
              "      <td>-7</td>\n",
              "      <td>-5.0</td>\n",
              "      <td>1022.0</td>\n",
              "      <td>SE</td>\n",
              "      <td>5.36</td>\n",
              "      <td>1</td>\n",
              "      <td>0</td>\n",
              "    </tr>\n",
              "    <tr>\n",
              "      <th>28</th>\n",
              "      <td>29</td>\n",
              "      <td>2010</td>\n",
              "      <td>1</td>\n",
              "      <td>2</td>\n",
              "      <td>4</td>\n",
              "      <td>138.0</td>\n",
              "      <td>-7</td>\n",
              "      <td>-5.0</td>\n",
              "      <td>1022.0</td>\n",
              "      <td>SE</td>\n",
              "      <td>6.25</td>\n",
              "      <td>2</td>\n",
              "      <td>0</td>\n",
              "    </tr>\n",
              "  </tbody>\n",
              "</table>\n",
              "</div>\n",
              "      <button class=\"colab-df-convert\" onclick=\"convertToInteractive('df-965e4de6-9f0b-4ad3-8ebf-a37ac40abb34')\"\n",
              "              title=\"Convert this dataframe to an interactive table.\"\n",
              "              style=\"display:none;\">\n",
              "        \n",
              "  <svg xmlns=\"http://www.w3.org/2000/svg\" height=\"24px\"viewBox=\"0 0 24 24\"\n",
              "       width=\"24px\">\n",
              "    <path d=\"M0 0h24v24H0V0z\" fill=\"none\"/>\n",
              "    <path d=\"M18.56 5.44l.94 2.06.94-2.06 2.06-.94-2.06-.94-.94-2.06-.94 2.06-2.06.94zm-11 1L8.5 8.5l.94-2.06 2.06-.94-2.06-.94L8.5 2.5l-.94 2.06-2.06.94zm10 10l.94 2.06.94-2.06 2.06-.94-2.06-.94-.94-2.06-.94 2.06-2.06.94z\"/><path d=\"M17.41 7.96l-1.37-1.37c-.4-.4-.92-.59-1.43-.59-.52 0-1.04.2-1.43.59L10.3 9.45l-7.72 7.72c-.78.78-.78 2.05 0 2.83L4 21.41c.39.39.9.59 1.41.59.51 0 1.02-.2 1.41-.59l7.78-7.78 2.81-2.81c.8-.78.8-2.07 0-2.86zM5.41 20L4 18.59l7.72-7.72 1.47 1.35L5.41 20z\"/>\n",
              "  </svg>\n",
              "      </button>\n",
              "      \n",
              "  <style>\n",
              "    .colab-df-container {\n",
              "      display:flex;\n",
              "      flex-wrap:wrap;\n",
              "      gap: 12px;\n",
              "    }\n",
              "\n",
              "    .colab-df-convert {\n",
              "      background-color: #E8F0FE;\n",
              "      border: none;\n",
              "      border-radius: 50%;\n",
              "      cursor: pointer;\n",
              "      display: none;\n",
              "      fill: #1967D2;\n",
              "      height: 32px;\n",
              "      padding: 0 0 0 0;\n",
              "      width: 32px;\n",
              "    }\n",
              "\n",
              "    .colab-df-convert:hover {\n",
              "      background-color: #E2EBFA;\n",
              "      box-shadow: 0px 1px 2px rgba(60, 64, 67, 0.3), 0px 1px 3px 1px rgba(60, 64, 67, 0.15);\n",
              "      fill: #174EA6;\n",
              "    }\n",
              "\n",
              "    [theme=dark] .colab-df-convert {\n",
              "      background-color: #3B4455;\n",
              "      fill: #D2E3FC;\n",
              "    }\n",
              "\n",
              "    [theme=dark] .colab-df-convert:hover {\n",
              "      background-color: #434B5C;\n",
              "      box-shadow: 0px 1px 3px 1px rgba(0, 0, 0, 0.15);\n",
              "      filter: drop-shadow(0px 1px 2px rgba(0, 0, 0, 0.3));\n",
              "      fill: #FFFFFF;\n",
              "    }\n",
              "  </style>\n",
              "\n",
              "      <script>\n",
              "        const buttonEl =\n",
              "          document.querySelector('#df-965e4de6-9f0b-4ad3-8ebf-a37ac40abb34 button.colab-df-convert');\n",
              "        buttonEl.style.display =\n",
              "          google.colab.kernel.accessAllowed ? 'block' : 'none';\n",
              "\n",
              "        async function convertToInteractive(key) {\n",
              "          const element = document.querySelector('#df-965e4de6-9f0b-4ad3-8ebf-a37ac40abb34');\n",
              "          const dataTable =\n",
              "            await google.colab.kernel.invokeFunction('convertToInteractive',\n",
              "                                                     [key], {});\n",
              "          if (!dataTable) return;\n",
              "\n",
              "          const docLinkHtml = 'Like what you see? Visit the ' +\n",
              "            '<a target=\"_blank\" href=https://colab.research.google.com/notebooks/data_table.ipynb>data table notebook</a>'\n",
              "            + ' to learn more about interactive tables.';\n",
              "          element.innerHTML = '';\n",
              "          dataTable['output_type'] = 'display_data';\n",
              "          await google.colab.output.renderOutput(dataTable, element);\n",
              "          const docLink = document.createElement('div');\n",
              "          docLink.innerHTML = docLinkHtml;\n",
              "          element.appendChild(docLink);\n",
              "        }\n",
              "      </script>\n",
              "    </div>\n",
              "  </div>\n",
              "  "
            ]
          },
          "metadata": {},
          "execution_count": 22
        }
      ]
    },
    {
      "cell_type": "code",
      "source": [
        "#Identifying outliers\n",
        "df.describe()"
      ],
      "metadata": {
        "colab": {
          "base_uri": "https://localhost:8080/",
          "height": 364
        },
        "id": "liA0ipZ7IjKX",
        "outputId": "aaca3d62-3451-45f9-ce06-3b2a3bf9e140"
      },
      "execution_count": 23,
      "outputs": [
        {
          "output_type": "execute_result",
          "data": {
            "text/plain": [
              "                 No          year         month           day          hour  \\\n",
              "count  43800.000000  43800.000000  43800.000000  43800.000000  43800.000000   \n",
              "mean   21924.500000   2012.001096      6.526575     15.735890     11.500000   \n",
              "std    12644.115232      1.413454      3.447092      8.795077      6.922266   \n",
              "min       25.000000   2010.000000      1.000000      1.000000      0.000000   \n",
              "25%    10974.750000   2011.000000      4.000000      8.000000      5.750000   \n",
              "50%    21924.500000   2012.000000      7.000000     16.000000     11.500000   \n",
              "75%    32874.250000   2013.000000     10.000000     23.000000     17.250000   \n",
              "max    43824.000000   2014.000000     12.000000     31.000000     23.000000   \n",
              "\n",
              "              pm2.5          DEWP          TEMP          PRES           Iws  \\\n",
              "count  43800.000000  43800.000000  43800.000000  43800.000000  43800.000000   \n",
              "mean      98.244966      1.828516     12.459041   1016.447306     23.894307   \n",
              "std       90.966982     14.429326     12.193384     10.271411     50.022729   \n",
              "min        0.000000    -40.000000    -19.000000    991.000000      0.450000   \n",
              "25%       30.000000    -10.000000      2.000000   1008.000000      1.790000   \n",
              "50%       73.000000      2.000000     14.000000   1016.000000      5.370000   \n",
              "75%      136.000000     15.000000     23.000000   1025.000000     21.910000   \n",
              "max      994.000000     28.000000     42.000000   1046.000000    585.600000   \n",
              "\n",
              "                 Is            Ir  \n",
              "count  43800.000000  43800.000000  \n",
              "mean       0.052763      0.195023  \n",
              "std        0.760582      1.416247  \n",
              "min        0.000000      0.000000  \n",
              "25%        0.000000      0.000000  \n",
              "50%        0.000000      0.000000  \n",
              "75%        0.000000      0.000000  \n",
              "max       27.000000     36.000000  "
            ],
            "text/html": [
              "\n",
              "  <div id=\"df-4468d7fa-3773-4767-b7e7-d398888f95b5\">\n",
              "    <div class=\"colab-df-container\">\n",
              "      <div>\n",
              "<style scoped>\n",
              "    .dataframe tbody tr th:only-of-type {\n",
              "        vertical-align: middle;\n",
              "    }\n",
              "\n",
              "    .dataframe tbody tr th {\n",
              "        vertical-align: top;\n",
              "    }\n",
              "\n",
              "    .dataframe thead th {\n",
              "        text-align: right;\n",
              "    }\n",
              "</style>\n",
              "<table border=\"1\" class=\"dataframe\">\n",
              "  <thead>\n",
              "    <tr style=\"text-align: right;\">\n",
              "      <th></th>\n",
              "      <th>No</th>\n",
              "      <th>year</th>\n",
              "      <th>month</th>\n",
              "      <th>day</th>\n",
              "      <th>hour</th>\n",
              "      <th>pm2.5</th>\n",
              "      <th>DEWP</th>\n",
              "      <th>TEMP</th>\n",
              "      <th>PRES</th>\n",
              "      <th>Iws</th>\n",
              "      <th>Is</th>\n",
              "      <th>Ir</th>\n",
              "    </tr>\n",
              "  </thead>\n",
              "  <tbody>\n",
              "    <tr>\n",
              "      <th>count</th>\n",
              "      <td>43800.000000</td>\n",
              "      <td>43800.000000</td>\n",
              "      <td>43800.000000</td>\n",
              "      <td>43800.000000</td>\n",
              "      <td>43800.000000</td>\n",
              "      <td>43800.000000</td>\n",
              "      <td>43800.000000</td>\n",
              "      <td>43800.000000</td>\n",
              "      <td>43800.000000</td>\n",
              "      <td>43800.000000</td>\n",
              "      <td>43800.000000</td>\n",
              "      <td>43800.000000</td>\n",
              "    </tr>\n",
              "    <tr>\n",
              "      <th>mean</th>\n",
              "      <td>21924.500000</td>\n",
              "      <td>2012.001096</td>\n",
              "      <td>6.526575</td>\n",
              "      <td>15.735890</td>\n",
              "      <td>11.500000</td>\n",
              "      <td>98.244966</td>\n",
              "      <td>1.828516</td>\n",
              "      <td>12.459041</td>\n",
              "      <td>1016.447306</td>\n",
              "      <td>23.894307</td>\n",
              "      <td>0.052763</td>\n",
              "      <td>0.195023</td>\n",
              "    </tr>\n",
              "    <tr>\n",
              "      <th>std</th>\n",
              "      <td>12644.115232</td>\n",
              "      <td>1.413454</td>\n",
              "      <td>3.447092</td>\n",
              "      <td>8.795077</td>\n",
              "      <td>6.922266</td>\n",
              "      <td>90.966982</td>\n",
              "      <td>14.429326</td>\n",
              "      <td>12.193384</td>\n",
              "      <td>10.271411</td>\n",
              "      <td>50.022729</td>\n",
              "      <td>0.760582</td>\n",
              "      <td>1.416247</td>\n",
              "    </tr>\n",
              "    <tr>\n",
              "      <th>min</th>\n",
              "      <td>25.000000</td>\n",
              "      <td>2010.000000</td>\n",
              "      <td>1.000000</td>\n",
              "      <td>1.000000</td>\n",
              "      <td>0.000000</td>\n",
              "      <td>0.000000</td>\n",
              "      <td>-40.000000</td>\n",
              "      <td>-19.000000</td>\n",
              "      <td>991.000000</td>\n",
              "      <td>0.450000</td>\n",
              "      <td>0.000000</td>\n",
              "      <td>0.000000</td>\n",
              "    </tr>\n",
              "    <tr>\n",
              "      <th>25%</th>\n",
              "      <td>10974.750000</td>\n",
              "      <td>2011.000000</td>\n",
              "      <td>4.000000</td>\n",
              "      <td>8.000000</td>\n",
              "      <td>5.750000</td>\n",
              "      <td>30.000000</td>\n",
              "      <td>-10.000000</td>\n",
              "      <td>2.000000</td>\n",
              "      <td>1008.000000</td>\n",
              "      <td>1.790000</td>\n",
              "      <td>0.000000</td>\n",
              "      <td>0.000000</td>\n",
              "    </tr>\n",
              "    <tr>\n",
              "      <th>50%</th>\n",
              "      <td>21924.500000</td>\n",
              "      <td>2012.000000</td>\n",
              "      <td>7.000000</td>\n",
              "      <td>16.000000</td>\n",
              "      <td>11.500000</td>\n",
              "      <td>73.000000</td>\n",
              "      <td>2.000000</td>\n",
              "      <td>14.000000</td>\n",
              "      <td>1016.000000</td>\n",
              "      <td>5.370000</td>\n",
              "      <td>0.000000</td>\n",
              "      <td>0.000000</td>\n",
              "    </tr>\n",
              "    <tr>\n",
              "      <th>75%</th>\n",
              "      <td>32874.250000</td>\n",
              "      <td>2013.000000</td>\n",
              "      <td>10.000000</td>\n",
              "      <td>23.000000</td>\n",
              "      <td>17.250000</td>\n",
              "      <td>136.000000</td>\n",
              "      <td>15.000000</td>\n",
              "      <td>23.000000</td>\n",
              "      <td>1025.000000</td>\n",
              "      <td>21.910000</td>\n",
              "      <td>0.000000</td>\n",
              "      <td>0.000000</td>\n",
              "    </tr>\n",
              "    <tr>\n",
              "      <th>max</th>\n",
              "      <td>43824.000000</td>\n",
              "      <td>2014.000000</td>\n",
              "      <td>12.000000</td>\n",
              "      <td>31.000000</td>\n",
              "      <td>23.000000</td>\n",
              "      <td>994.000000</td>\n",
              "      <td>28.000000</td>\n",
              "      <td>42.000000</td>\n",
              "      <td>1046.000000</td>\n",
              "      <td>585.600000</td>\n",
              "      <td>27.000000</td>\n",
              "      <td>36.000000</td>\n",
              "    </tr>\n",
              "  </tbody>\n",
              "</table>\n",
              "</div>\n",
              "      <button class=\"colab-df-convert\" onclick=\"convertToInteractive('df-4468d7fa-3773-4767-b7e7-d398888f95b5')\"\n",
              "              title=\"Convert this dataframe to an interactive table.\"\n",
              "              style=\"display:none;\">\n",
              "        \n",
              "  <svg xmlns=\"http://www.w3.org/2000/svg\" height=\"24px\"viewBox=\"0 0 24 24\"\n",
              "       width=\"24px\">\n",
              "    <path d=\"M0 0h24v24H0V0z\" fill=\"none\"/>\n",
              "    <path d=\"M18.56 5.44l.94 2.06.94-2.06 2.06-.94-2.06-.94-.94-2.06-.94 2.06-2.06.94zm-11 1L8.5 8.5l.94-2.06 2.06-.94-2.06-.94L8.5 2.5l-.94 2.06-2.06.94zm10 10l.94 2.06.94-2.06 2.06-.94-2.06-.94-.94-2.06-.94 2.06-2.06.94z\"/><path d=\"M17.41 7.96l-1.37-1.37c-.4-.4-.92-.59-1.43-.59-.52 0-1.04.2-1.43.59L10.3 9.45l-7.72 7.72c-.78.78-.78 2.05 0 2.83L4 21.41c.39.39.9.59 1.41.59.51 0 1.02-.2 1.41-.59l7.78-7.78 2.81-2.81c.8-.78.8-2.07 0-2.86zM5.41 20L4 18.59l7.72-7.72 1.47 1.35L5.41 20z\"/>\n",
              "  </svg>\n",
              "      </button>\n",
              "      \n",
              "  <style>\n",
              "    .colab-df-container {\n",
              "      display:flex;\n",
              "      flex-wrap:wrap;\n",
              "      gap: 12px;\n",
              "    }\n",
              "\n",
              "    .colab-df-convert {\n",
              "      background-color: #E8F0FE;\n",
              "      border: none;\n",
              "      border-radius: 50%;\n",
              "      cursor: pointer;\n",
              "      display: none;\n",
              "      fill: #1967D2;\n",
              "      height: 32px;\n",
              "      padding: 0 0 0 0;\n",
              "      width: 32px;\n",
              "    }\n",
              "\n",
              "    .colab-df-convert:hover {\n",
              "      background-color: #E2EBFA;\n",
              "      box-shadow: 0px 1px 2px rgba(60, 64, 67, 0.3), 0px 1px 3px 1px rgba(60, 64, 67, 0.15);\n",
              "      fill: #174EA6;\n",
              "    }\n",
              "\n",
              "    [theme=dark] .colab-df-convert {\n",
              "      background-color: #3B4455;\n",
              "      fill: #D2E3FC;\n",
              "    }\n",
              "\n",
              "    [theme=dark] .colab-df-convert:hover {\n",
              "      background-color: #434B5C;\n",
              "      box-shadow: 0px 1px 3px 1px rgba(0, 0, 0, 0.15);\n",
              "      filter: drop-shadow(0px 1px 2px rgba(0, 0, 0, 0.3));\n",
              "      fill: #FFFFFF;\n",
              "    }\n",
              "  </style>\n",
              "\n",
              "      <script>\n",
              "        const buttonEl =\n",
              "          document.querySelector('#df-4468d7fa-3773-4767-b7e7-d398888f95b5 button.colab-df-convert');\n",
              "        buttonEl.style.display =\n",
              "          google.colab.kernel.accessAllowed ? 'block' : 'none';\n",
              "\n",
              "        async function convertToInteractive(key) {\n",
              "          const element = document.querySelector('#df-4468d7fa-3773-4767-b7e7-d398888f95b5');\n",
              "          const dataTable =\n",
              "            await google.colab.kernel.invokeFunction('convertToInteractive',\n",
              "                                                     [key], {});\n",
              "          if (!dataTable) return;\n",
              "\n",
              "          const docLinkHtml = 'Like what you see? Visit the ' +\n",
              "            '<a target=\"_blank\" href=https://colab.research.google.com/notebooks/data_table.ipynb>data table notebook</a>'\n",
              "            + ' to learn more about interactive tables.';\n",
              "          element.innerHTML = '';\n",
              "          dataTable['output_type'] = 'display_data';\n",
              "          await google.colab.output.renderOutput(dataTable, element);\n",
              "          const docLink = document.createElement('div');\n",
              "          docLink.innerHTML = docLinkHtml;\n",
              "          element.appendChild(docLink);\n",
              "        }\n",
              "      </script>\n",
              "    </div>\n",
              "  </div>\n",
              "  "
            ]
          },
          "metadata": {},
          "execution_count": 23
        }
      ]
    },
    {
      "cell_type": "code",
      "source": [
        "#Looking for all the years of the DataFrame\n",
        "df[\"year\"].unique()"
      ],
      "metadata": {
        "colab": {
          "base_uri": "https://localhost:8080/"
        },
        "id": "2TK3h3eII5t2",
        "outputId": "4eba7f3b-b416-4046-d671-926673778e40"
      },
      "execution_count": 24,
      "outputs": [
        {
          "output_type": "execute_result",
          "data": {
            "text/plain": [
              "array([2010, 2011, 2012, 2013, 2014])"
            ]
          },
          "metadata": {},
          "execution_count": 24
        }
      ]
    },
    {
      "cell_type": "code",
      "source": [
        "#Checking inconsistencies on categorical values\n",
        "df[\"cbwd\"].unique()"
      ],
      "metadata": {
        "colab": {
          "base_uri": "https://localhost:8080/"
        },
        "id": "egTl3b9vLKZY",
        "outputId": "6c9345c2-a2bc-4864-b78c-159b223d2987"
      },
      "execution_count": 25,
      "outputs": [
        {
          "output_type": "execute_result",
          "data": {
            "text/plain": [
              "array(['SE', 'cv', 'NW', 'NE'], dtype=object)"
            ]
          },
          "metadata": {},
          "execution_count": 25
        }
      ]
    },
    {
      "cell_type": "code",
      "source": [
        "#Changing \"cv\" for \"SW\" on this categorical column\n",
        "df[\"cbwd\"]=df[\"cbwd\"].replace('cv', 'SW')\n",
        "df[\"cbwd\"].unique()"
      ],
      "metadata": {
        "colab": {
          "base_uri": "https://localhost:8080/"
        },
        "id": "YkNUck-kMDPv",
        "outputId": "173f7248-2592-4c9f-c6f4-b1d083dbf4aa"
      },
      "execution_count": 26,
      "outputs": [
        {
          "output_type": "execute_result",
          "data": {
            "text/plain": [
              "array(['SE', 'SW', 'NW', 'NE'], dtype=object)"
            ]
          },
          "metadata": {},
          "execution_count": 26
        }
      ]
    },
    {
      "cell_type": "code",
      "source": [
        "#Dropping columns\n",
        "df = df.drop(columns=[\"No\",\"DEWP\",\"cbwd\",\"Is\",\"Ir\"])\n",
        "df.head()"
      ],
      "metadata": {
        "colab": {
          "base_uri": "https://localhost:8080/",
          "height": 206
        },
        "id": "b38bmXkNGo3x",
        "outputId": "b4460c64-58d3-42e8-b5e1-d3336ff7bf29"
      },
      "execution_count": 27,
      "outputs": [
        {
          "output_type": "execute_result",
          "data": {
            "text/plain": [
              "    year  month  day  hour  pm2.5  TEMP    PRES   Iws\n",
              "24  2010      1    2     0  129.0  -4.0  1020.0  1.79\n",
              "25  2010      1    2     1  148.0  -4.0  1020.0  2.68\n",
              "26  2010      1    2     2  159.0  -5.0  1021.0  3.57\n",
              "27  2010      1    2     3  181.0  -5.0  1022.0  5.36\n",
              "28  2010      1    2     4  138.0  -5.0  1022.0  6.25"
            ],
            "text/html": [
              "\n",
              "  <div id=\"df-fcfccccf-739f-4452-8a81-dec9a3f39c3c\">\n",
              "    <div class=\"colab-df-container\">\n",
              "      <div>\n",
              "<style scoped>\n",
              "    .dataframe tbody tr th:only-of-type {\n",
              "        vertical-align: middle;\n",
              "    }\n",
              "\n",
              "    .dataframe tbody tr th {\n",
              "        vertical-align: top;\n",
              "    }\n",
              "\n",
              "    .dataframe thead th {\n",
              "        text-align: right;\n",
              "    }\n",
              "</style>\n",
              "<table border=\"1\" class=\"dataframe\">\n",
              "  <thead>\n",
              "    <tr style=\"text-align: right;\">\n",
              "      <th></th>\n",
              "      <th>year</th>\n",
              "      <th>month</th>\n",
              "      <th>day</th>\n",
              "      <th>hour</th>\n",
              "      <th>pm2.5</th>\n",
              "      <th>TEMP</th>\n",
              "      <th>PRES</th>\n",
              "      <th>Iws</th>\n",
              "    </tr>\n",
              "  </thead>\n",
              "  <tbody>\n",
              "    <tr>\n",
              "      <th>24</th>\n",
              "      <td>2010</td>\n",
              "      <td>1</td>\n",
              "      <td>2</td>\n",
              "      <td>0</td>\n",
              "      <td>129.0</td>\n",
              "      <td>-4.0</td>\n",
              "      <td>1020.0</td>\n",
              "      <td>1.79</td>\n",
              "    </tr>\n",
              "    <tr>\n",
              "      <th>25</th>\n",
              "      <td>2010</td>\n",
              "      <td>1</td>\n",
              "      <td>2</td>\n",
              "      <td>1</td>\n",
              "      <td>148.0</td>\n",
              "      <td>-4.0</td>\n",
              "      <td>1020.0</td>\n",
              "      <td>2.68</td>\n",
              "    </tr>\n",
              "    <tr>\n",
              "      <th>26</th>\n",
              "      <td>2010</td>\n",
              "      <td>1</td>\n",
              "      <td>2</td>\n",
              "      <td>2</td>\n",
              "      <td>159.0</td>\n",
              "      <td>-5.0</td>\n",
              "      <td>1021.0</td>\n",
              "      <td>3.57</td>\n",
              "    </tr>\n",
              "    <tr>\n",
              "      <th>27</th>\n",
              "      <td>2010</td>\n",
              "      <td>1</td>\n",
              "      <td>2</td>\n",
              "      <td>3</td>\n",
              "      <td>181.0</td>\n",
              "      <td>-5.0</td>\n",
              "      <td>1022.0</td>\n",
              "      <td>5.36</td>\n",
              "    </tr>\n",
              "    <tr>\n",
              "      <th>28</th>\n",
              "      <td>2010</td>\n",
              "      <td>1</td>\n",
              "      <td>2</td>\n",
              "      <td>4</td>\n",
              "      <td>138.0</td>\n",
              "      <td>-5.0</td>\n",
              "      <td>1022.0</td>\n",
              "      <td>6.25</td>\n",
              "    </tr>\n",
              "  </tbody>\n",
              "</table>\n",
              "</div>\n",
              "      <button class=\"colab-df-convert\" onclick=\"convertToInteractive('df-fcfccccf-739f-4452-8a81-dec9a3f39c3c')\"\n",
              "              title=\"Convert this dataframe to an interactive table.\"\n",
              "              style=\"display:none;\">\n",
              "        \n",
              "  <svg xmlns=\"http://www.w3.org/2000/svg\" height=\"24px\"viewBox=\"0 0 24 24\"\n",
              "       width=\"24px\">\n",
              "    <path d=\"M0 0h24v24H0V0z\" fill=\"none\"/>\n",
              "    <path d=\"M18.56 5.44l.94 2.06.94-2.06 2.06-.94-2.06-.94-.94-2.06-.94 2.06-2.06.94zm-11 1L8.5 8.5l.94-2.06 2.06-.94-2.06-.94L8.5 2.5l-.94 2.06-2.06.94zm10 10l.94 2.06.94-2.06 2.06-.94-2.06-.94-.94-2.06-.94 2.06-2.06.94z\"/><path d=\"M17.41 7.96l-1.37-1.37c-.4-.4-.92-.59-1.43-.59-.52 0-1.04.2-1.43.59L10.3 9.45l-7.72 7.72c-.78.78-.78 2.05 0 2.83L4 21.41c.39.39.9.59 1.41.59.51 0 1.02-.2 1.41-.59l7.78-7.78 2.81-2.81c.8-.78.8-2.07 0-2.86zM5.41 20L4 18.59l7.72-7.72 1.47 1.35L5.41 20z\"/>\n",
              "  </svg>\n",
              "      </button>\n",
              "      \n",
              "  <style>\n",
              "    .colab-df-container {\n",
              "      display:flex;\n",
              "      flex-wrap:wrap;\n",
              "      gap: 12px;\n",
              "    }\n",
              "\n",
              "    .colab-df-convert {\n",
              "      background-color: #E8F0FE;\n",
              "      border: none;\n",
              "      border-radius: 50%;\n",
              "      cursor: pointer;\n",
              "      display: none;\n",
              "      fill: #1967D2;\n",
              "      height: 32px;\n",
              "      padding: 0 0 0 0;\n",
              "      width: 32px;\n",
              "    }\n",
              "\n",
              "    .colab-df-convert:hover {\n",
              "      background-color: #E2EBFA;\n",
              "      box-shadow: 0px 1px 2px rgba(60, 64, 67, 0.3), 0px 1px 3px 1px rgba(60, 64, 67, 0.15);\n",
              "      fill: #174EA6;\n",
              "    }\n",
              "\n",
              "    [theme=dark] .colab-df-convert {\n",
              "      background-color: #3B4455;\n",
              "      fill: #D2E3FC;\n",
              "    }\n",
              "\n",
              "    [theme=dark] .colab-df-convert:hover {\n",
              "      background-color: #434B5C;\n",
              "      box-shadow: 0px 1px 3px 1px rgba(0, 0, 0, 0.15);\n",
              "      filter: drop-shadow(0px 1px 2px rgba(0, 0, 0, 0.3));\n",
              "      fill: #FFFFFF;\n",
              "    }\n",
              "  </style>\n",
              "\n",
              "      <script>\n",
              "        const buttonEl =\n",
              "          document.querySelector('#df-fcfccccf-739f-4452-8a81-dec9a3f39c3c button.colab-df-convert');\n",
              "        buttonEl.style.display =\n",
              "          google.colab.kernel.accessAllowed ? 'block' : 'none';\n",
              "\n",
              "        async function convertToInteractive(key) {\n",
              "          const element = document.querySelector('#df-fcfccccf-739f-4452-8a81-dec9a3f39c3c');\n",
              "          const dataTable =\n",
              "            await google.colab.kernel.invokeFunction('convertToInteractive',\n",
              "                                                     [key], {});\n",
              "          if (!dataTable) return;\n",
              "\n",
              "          const docLinkHtml = 'Like what you see? Visit the ' +\n",
              "            '<a target=\"_blank\" href=https://colab.research.google.com/notebooks/data_table.ipynb>data table notebook</a>'\n",
              "            + ' to learn more about interactive tables.';\n",
              "          element.innerHTML = '';\n",
              "          dataTable['output_type'] = 'display_data';\n",
              "          await google.colab.output.renderOutput(dataTable, element);\n",
              "          const docLink = document.createElement('div');\n",
              "          docLink.innerHTML = docLinkHtml;\n",
              "          element.appendChild(docLink);\n",
              "        }\n",
              "      </script>\n",
              "    </div>\n",
              "  </div>\n",
              "  "
            ]
          },
          "metadata": {},
          "execution_count": 27
        }
      ]
    },
    {
      "cell_type": "code",
      "source": [
        "#Correlation\n",
        "corr = df.corr()"
      ],
      "metadata": {
        "id": "-BGI7sTEUzMQ"
      },
      "execution_count": 28,
      "outputs": []
    },
    {
      "cell_type": "code",
      "source": [
        "#Import\n",
        "import seaborn as sns"
      ],
      "metadata": {
        "id": "j6h0TdzDU7GZ"
      },
      "execution_count": 29,
      "outputs": []
    },
    {
      "cell_type": "code",
      "source": [
        "#Heatmap\n",
        "sns.heatmap(corr, cmap = 'Greens', annot = True);"
      ],
      "metadata": {
        "colab": {
          "base_uri": "https://localhost:8080/",
          "height": 435
        },
        "id": "6Y3HWwTuU4bs",
        "outputId": "2949083e-8867-4c75-c9b4-792a5a89d418"
      },
      "execution_count": 30,
      "outputs": [
        {
          "output_type": "display_data",
          "data": {
            "text/plain": [
              "<Figure size 640x480 with 2 Axes>"
            ],
            "image/png": "[encoded data removed]"
          },
          "metadata": {}
        }
      ]
    },
    {
      "cell_type": "code",
      "source": [
        "#Univariate visuals for some characteristics."
      ],
      "metadata": {
        "id": "JDoQgSM5ZIMi"
      },
      "execution_count": 31,
      "outputs": []
    },
    {
      "cell_type": "code",
      "source": [
        "#Histogram of the temperature\n",
        "sns.histplot(data=df, x=\"TEMP\")\n",
        "plt.title(\"Rango de temperaturas obtenido\")\n",
        "plt.xlabel(\"Temperatura (°C)\")\n",
        "plt.ylabel(\"Count\");"
      ],
      "metadata": {
        "colab": {
          "base_uri": "https://localhost:8080/",
          "height": 472
        },
        "id": "eb3746WGXmla",
        "outputId": "f97d8737-fa94-4b13-f55e-33187b5bece8"
      },
      "execution_count": 32,
      "outputs": [
        {
          "output_type": "display_data",
          "data": {
            "text/plain": [
              "<Figure size 640x480 with 1 Axes>"
            ],
            "image/png": "[encoded data removed]"
          },
          "metadata": {}
        }
      ]
    },
    {
      "cell_type": "code",
      "source": [
        "#Boxplot of the temperature\n",
        "fig, axes = plt.subplots(nrows = 1, ncols = 1)\n",
        "axes.boxplot(df[\"TEMP\"], notch = True, labels=[\"Temperatura (°C)\"]);"
      ],
      "metadata": {
        "colab": {
          "base_uri": "https://localhost:8080/",
          "height": 430
        },
        "id": "tqFbGGd-YAag",
        "outputId": "a79498de-dc02-44b6-a11e-925c25364c54"
      },
      "execution_count": 33,
      "outputs": [
        {
          "output_type": "display_data",
          "data": {
            "text/plain": [
              "<Figure size 640x480 with 1 Axes>"
            ],
            "image/png": "[encoded data removed]"
          },
          "metadata": {}
        }
      ]
    },
    {
      "cell_type": "code",
      "source": [
        "#Histogram of the pressure\n",
        "sns.histplot(data=df, x=\"PRES\")\n",
        "plt.title(\"Rango de presiones obtenido\")\n",
        "plt.xlabel(\"Presión (hPA)\")\n",
        "plt.ylabel(\"Count\");"
      ],
      "metadata": {
        "colab": {
          "base_uri": "https://localhost:8080/",
          "height": 472
        },
        "id": "qQw_4EpxYTGC",
        "outputId": "2453a975-fa4b-44b9-eff8-5d3694c2c86e"
      },
      "execution_count": 34,
      "outputs": [
        {
          "output_type": "display_data",
          "data": {
            "text/plain": [
              "<Figure size 640x480 with 1 Axes>"
            ],
            "image/png": "[encoded data removed]"
          },
          "metadata": {}
        }
      ]
    },
    {
      "cell_type": "code",
      "source": [
        "#Boxplot of the pressure\n",
        "fig, axes = plt.subplots(nrows = 1, ncols = 1)\n",
        "axes.boxplot(df[\"PRES\"], notch = True, labels=[\"Presión (hPA)\"]);"
      ],
      "metadata": {
        "colab": {
          "base_uri": "https://localhost:8080/",
          "height": 430
        },
        "id": "YM4PX7Y8YKbS",
        "outputId": "0e3e3539-820e-4a04-9f32-2ed78b73c452"
      },
      "execution_count": 35,
      "outputs": [
        {
          "output_type": "display_data",
          "data": {
            "text/plain": [
              "<Figure size 640x480 with 1 Axes>"
            ],
            "image/png": "[encoded data removed]"
          },
          "metadata": {}
        }
      ]
    },
    {
      "cell_type": "code",
      "source": [
        "#Histogram of the Cumulated wind speed\n",
        "sns.histplot(data=df, x=\"Iws\")\n",
        "plt.title(\"Velocidad del viento acumulada obtenida\")\n",
        "plt.xlabel(\"Velocidad del viento (m/s)\")\n",
        "plt.ylabel(\"Count\");"
      ],
      "metadata": {
        "colab": {
          "base_uri": "https://localhost:8080/",
          "height": 472
        },
        "id": "TDMB_wrQYngt",
        "outputId": "03589614-281b-4bde-fa2b-1d0b06d686cc"
      },
      "execution_count": 36,
      "outputs": [
        {
          "output_type": "display_data",
          "data": {
            "text/plain": [
              "<Figure size 640x480 with 1 Axes>"
            ],
            "image/png": "[encoded data removed]"
          },
          "metadata": {}
        }
      ]
    },
    {
      "cell_type": "code",
      "source": [
        "#Boxplot of the Cumulated wind speed\n",
        "fig, axes = plt.subplots(nrows = 1, ncols = 1)\n",
        "axes.boxplot(df[\"Iws\"], notch = True, labels=[\"Velocidad del viento (m/s)\"]);"
      ],
      "metadata": {
        "colab": {
          "base_uri": "https://localhost:8080/",
          "height": 430
        },
        "id": "imXvQIDbYrMh",
        "outputId": "356798a7-6b59-4e97-ae0b-58b6be64dde1"
      },
      "execution_count": 37,
      "outputs": [
        {
          "output_type": "display_data",
          "data": {
            "text/plain": [
              "<Figure size 640x480 with 1 Axes>"
            ],
            "image/png": "[encoded data removed]"
          },
          "metadata": {}
        }
      ]
    },
    {
      "cell_type": "code",
      "source": [
        "#Intentar hacer predicciones con la ciudad de Quito.\n",
        "#O simular las situaciones de que pasaría si erupciona el Cotopaxi."
      ],
      "metadata": {
        "id": "7raARylLzt49"
      },
      "execution_count": 38,
      "outputs": []
    },
    {
      "cell_type": "code",
      "source": [
        "#Voy a usar diferentes dataframes, así que guardaré la información original.\n",
        "df1=df\n",
        "df2=df\n",
        "df3=df\n",
        "df4=df"
      ],
      "metadata": {
        "id": "K-O50ZZbc48G"
      },
      "execution_count": 39,
      "outputs": []
    },
    {
      "cell_type": "code",
      "source": [
        "#@title Instanciación de diversos modelos, para escoger el idóneo.\n",
        "\n",
        "#Imports\n",
        "from sklearn.model_selection import train_test_split\n",
        "from sklearn.linear_model import LinearRegression\n",
        "from sklearn.neighbors import KNeighborsRegressor\n",
        "from sklearn.ensemble import RandomForestRegressor, GradientBoostingRegressor\n",
        "from sklearn.metrics import mean_squared_error, r2_score"
      ],
      "metadata": {
        "id": "yUHECKhOgNJK"
      },
      "execution_count": 40,
      "outputs": []
    },
    {
      "cell_type": "code",
      "source": [
        "#@title Modelo: Regresión Linear\n",
        "#Train/test split\n",
        "X1_train, X1_test, y1_train, y1_test = train_test_split(df1.drop('pm2.5', axis=1), df1['pm2.5'], test_size=0.2)"
      ],
      "metadata": {
        "id": "AzIORGIDgq3U"
      },
      "execution_count": 41,
      "outputs": []
    },
    {
      "cell_type": "code",
      "source": [
        "# #Instanciación de modelo: Regresión linear\n",
        "lr_model = LinearRegression()"
      ],
      "metadata": {
        "id": "35HY--rCg3aY"
      },
      "execution_count": 42,
      "outputs": []
    },
    {
      "cell_type": "code",
      "source": [
        "#Model fit\n",
        "lr_model.fit(X1_train, y1_train)"
      ],
      "metadata": {
        "colab": {
          "base_uri": "https://localhost:8080/",
          "height": 75
        },
        "id": "Vpm5zoj7jUbZ",
        "outputId": "5caaca1b-72a8-4d30-ae2d-c5559c07b114"
      },
      "execution_count": 43,
      "outputs": [
        {
          "output_type": "execute_result",
          "data": {
            "text/plain": [
              "LinearRegression()"
            ],
            "text/html": [
              "<style>#sk-container-id-1 {color: black;background-color: white;}#sk-container-id-1 pre{padding: 0;}#sk-container-id-1 div.sk-toggleable {background-color: white;}#sk-container-id-1 label.sk-toggleable__label {cursor: pointer;display: block;width: 100%;margin-bottom: 0;padding: 0.3em;box-sizing: border-box;text-align: center;}#sk-container-id-1 label.sk-toggleable__label-arrow:before {content: \"▸\";float: left;margin-right: 0.25em;color: #696969;}#sk-container-id-1 label.sk-toggleable__label-arrow:hover:before {color: black;}#sk-container-id-1 div.sk-estimator:hover label.sk-toggleable__label-arrow:before {color: black;}#sk-container-id-1 div.sk-toggleable__content {max-height: 0;max-width: 0;overflow: hidden;text-align: left;background-color: #f0f8ff;}#sk-container-id-1 div.sk-toggleable__content pre {margin: 0.2em;color: black;border-radius: 0.25em;background-color: #f0f8ff;}#sk-container-id-1 input.sk-toggleable__control:checked~div.sk-toggleable__content {max-height: 200px;max-width: 100%;overflow: auto;}#sk-container-id-1 input.sk-toggleable__control:checked~label.sk-toggleable__label-arrow:before {content: \"▾\";}#sk-container-id-1 div.sk-estimator input.sk-toggleable__control:checked~label.sk-toggleable__label {background-color: #d4ebff;}#sk-container-id-1 div.sk-label input.sk-toggleable__control:checked~label.sk-toggleable__label {background-color: #d4ebff;}#sk-container-id-1 input.sk-hidden--visually {border: 0;clip: rect(1px 1px 1px 1px);clip: rect(1px, 1px, 1px, 1px);height: 1px;margin: -1px;overflow: hidden;padding: 0;position: absolute;width: 1px;}#sk-container-id-1 div.sk-estimator {font-family: monospace;background-color: #f0f8ff;border: 1px dotted black;border-radius: 0.25em;box-sizing: border-box;margin-bottom: 0.5em;}#sk-container-id-1 div.sk-estimator:hover {background-color: #d4ebff;}#sk-container-id-1 div.sk-parallel-item::after {content: \"\";width: 100%;border-bottom: 1px solid gray;flex-grow: 1;}#sk-container-id-1 div.sk-label:hover label.sk-toggleable__label {background-color: #d4ebff;}#sk-container-id-1 div.sk-serial::before {content: \"\";position: absolute;border-left: 1px solid gray;box-sizing: border-box;top: 0;bottom: 0;left: 50%;z-index: 0;}#sk-container-id-1 div.sk-serial {display: flex;flex-direction: column;align-items: center;background-color: white;padding-right: 0.2em;padding-left: 0.2em;position: relative;}#sk-container-id-1 div.sk-item {position: relative;z-index: 1;}#sk-container-id-1 div.sk-parallel {display: flex;align-items: stretch;justify-content: center;background-color: white;position: relative;}#sk-container-id-1 div.sk-item::before, #sk-container-id-1 div.sk-parallel-item::before {content: \"\";position: absolute;border-left: 1px solid gray;box-sizing: border-box;top: 0;bottom: 0;left: 50%;z-index: -1;}#sk-container-id-1 div.sk-parallel-item {display: flex;flex-direction: column;z-index: 1;position: relative;background-color: white;}#sk-container-id-1 div.sk-parallel-item:first-child::after {align-self: flex-end;width: 50%;}#sk-container-id-1 div.sk-parallel-item:last-child::after {align-self: flex-start;width: 50%;}#sk-container-id-1 div.sk-parallel-item:only-child::after {width: 0;}#sk-container-id-1 div.sk-dashed-wrapped {border: 1px dashed gray;margin: 0 0.4em 0.5em 0.4em;box-sizing: border-box;padding-bottom: 0.4em;background-color: white;}#sk-container-id-1 div.sk-label label {font-family: monospace;font-weight: bold;display: inline-block;line-height: 1.2em;}#sk-container-id-1 div.sk-label-container {text-align: center;}#sk-container-id-1 div.sk-container {/* jupyter's `normalize.less` sets `[hidden] { display: none; }` but bootstrap.min.css set `[hidden] { display: none !important; }` so we also need the `!important` here to be able to override the default hidden behavior on the sphinx rendered scikit-learn.org. See: https://github.com/scikit-learn/scikit-learn/issues/21755 */display: inline-block !important;position: relative;}#sk-container-id-1 div.sk-text-repr-fallback {display: none;}</style><div id=\"sk-container-id-1\" class=\"sk-top-container\"><div class=\"sk-text-repr-fallback\"><pre>LinearRegression()</pre><b>In a Jupyter environment, please rerun this cell to show the HTML representation or trust the notebook. <br />On GitHub, the HTML representation is unable to render, please try loading this page with nbviewer.org.</b></div><div class=\"sk-container\" hidden><div class=\"sk-item\"><div class=\"sk-estimator sk-toggleable\"><input class=\"sk-toggleable__control sk-hidden--visually\" id=\"sk-estimator-id-1\" type=\"checkbox\" checked><label for=\"sk-estimator-id-1\" class=\"sk-toggleable__label sk-toggleable__label-arrow\">LinearRegression</label><div class=\"sk-toggleable__content\"><pre>LinearRegression()</pre></div></div></div></div></div>"
            ]
          },
          "metadata": {},
          "execution_count": 43
        }
      ]
    },
    {
      "cell_type": "code",
      "source": [
        "# Predicciones\n",
        "y_pred_lr = lr_model.predict(X1_test)"
      ],
      "metadata": {
        "id": "0j011ru8g4fA"
      },
      "execution_count": 44,
      "outputs": []
    },
    {
      "cell_type": "code",
      "source": [
        "# Evaluación del rendimiento del modelo con Error Cuadrático Medio y R2\n",
        "mse_lr = mean_squared_error(y1_test, y_pred_lr)\n",
        "r2_lr = r2_score(y1_test, y_pred_lr)"
      ],
      "metadata": {
        "id": "0xQkgKfDg5lz"
      },
      "execution_count": 45,
      "outputs": []
    },
    {
      "cell_type": "code",
      "source": [
        "#Resultados MSE y R2\n",
        "print(mse_lr)\n",
        "print(r2_lr)"
      ],
      "metadata": {
        "colab": {
          "base_uri": "https://localhost:8080/"
        },
        "id": "Kvn-q3vElceU",
        "outputId": "2c50fd4f-a96e-41fe-a542-78493a1da013"
      },
      "execution_count": 46,
      "outputs": [
        {
          "output_type": "stream",
          "name": "stdout",
          "text": [
            "7285.199794910162\n",
            "0.11888723506344367\n"
          ]
        }
      ]
    },
    {
      "cell_type": "markdown",
      "source": [
        "¿Por qué no usar este modelo?\n",
        "\n",
        "Dentro de lo que estuve investigando y por lo que he usado, el modelo de regresión linear no va a funcionar de forma correcta con modelos de regresión durante tiempo."
      ],
      "metadata": {
        "id": "gcHDRhAOhWLS"
      }
    },
    {
      "cell_type": "code",
      "source": [
        "#@title Modelo: KNN\n",
        "#Train/test split\n",
        "X2_train, X2_test, y2_train, y2_test = train_test_split(df2.drop('pm2.5', axis=1), df2['pm2.5'], test_size=0.2)"
      ],
      "metadata": {
        "id": "2ak8FH5Rg6qd"
      },
      "execution_count": 100,
      "outputs": []
    },
    {
      "cell_type": "code",
      "source": [
        "#Instanciación de modelo: KNN\n",
        "knn_model = KNeighborsRegressor(n_neighbors=3, leaf_size=30)"
      ],
      "metadata": {
        "id": "y1TQoqB7hHkM"
      },
      "execution_count": 95,
      "outputs": []
    },
    {
      "cell_type": "code",
      "source": [
        "#Model fit\n",
        "knn_model.fit(X2_train, y2_train)"
      ],
      "metadata": {
        "colab": {
          "base_uri": "https://localhost:8080/",
          "height": 75
        },
        "id": "qsxon8ybhLVt",
        "outputId": "0337e3cd-5ce2-4a4e-bb94-c0a8c568c91e"
      },
      "execution_count": 96,
      "outputs": [
        {
          "output_type": "execute_result",
          "data": {
            "text/plain": [
              "KNeighborsRegressor(n_neighbors=3)"
            ],
            "text/html": [
              "<style>#sk-container-id-7 {color: black;background-color: white;}#sk-container-id-7 pre{padding: 0;}#sk-container-id-7 div.sk-toggleable {background-color: white;}#sk-container-id-7 label.sk-toggleable__label {cursor: pointer;display: block;width: 100%;margin-bottom: 0;padding: 0.3em;box-sizing: border-box;text-align: center;}#sk-container-id-7 label.sk-toggleable__label-arrow:before {content: \"▸\";float: left;margin-right: 0.25em;color: #696969;}#sk-container-id-7 label.sk-toggleable__label-arrow:hover:before {color: black;}#sk-container-id-7 div.sk-estimator:hover label.sk-toggleable__label-arrow:before {color: black;}#sk-container-id-7 div.sk-toggleable__content {max-height: 0;max-width: 0;overflow: hidden;text-align: left;background-color: #f0f8ff;}#sk-container-id-7 div.sk-toggleable__content pre {margin: 0.2em;color: black;border-radius: 0.25em;background-color: #f0f8ff;}#sk-container-id-7 input.sk-toggleable__control:checked~div.sk-toggleable__content {max-height: 200px;max-width: 100%;overflow: auto;}#sk-container-id-7 input.sk-toggleable__control:checked~label.sk-toggleable__label-arrow:before {content: \"▾\";}#sk-container-id-7 div.sk-estimator input.sk-toggleable__control:checked~label.sk-toggleable__label {background-color: #d4ebff;}#sk-container-id-7 div.sk-label input.sk-toggleable__control:checked~label.sk-toggleable__label {background-color: #d4ebff;}#sk-container-id-7 input.sk-hidden--visually {border: 0;clip: rect(1px 1px 1px 1px);clip: rect(1px, 1px, 1px, 1px);height: 1px;margin: -1px;overflow: hidden;padding: 0;position: absolute;width: 1px;}#sk-container-id-7 div.sk-estimator {font-family: monospace;background-color: #f0f8ff;border: 1px dotted black;border-radius: 0.25em;box-sizing: border-box;margin-bottom: 0.5em;}#sk-container-id-7 div.sk-estimator:hover {background-color: #d4ebff;}#sk-container-id-7 div.sk-parallel-item::after {content: \"\";width: 100%;border-bottom: 1px solid gray;flex-grow: 1;}#sk-container-id-7 div.sk-label:hover label.sk-toggleable__label {background-color: #d4ebff;}#sk-container-id-7 div.sk-serial::before {content: \"\";position: absolute;border-left: 1px solid gray;box-sizing: border-box;top: 0;bottom: 0;left: 50%;z-index: 0;}#sk-container-id-7 div.sk-serial {display: flex;flex-direction: column;align-items: center;background-color: white;padding-right: 0.2em;padding-left: 0.2em;position: relative;}#sk-container-id-7 div.sk-item {position: relative;z-index: 1;}#sk-container-id-7 div.sk-parallel {display: flex;align-items: stretch;justify-content: center;background-color: white;position: relative;}#sk-container-id-7 div.sk-item::before, #sk-container-id-7 div.sk-parallel-item::before {content: \"\";position: absolute;border-left: 1px solid gray;box-sizing: border-box;top: 0;bottom: 0;left: 50%;z-index: -1;}#sk-container-id-7 div.sk-parallel-item {display: flex;flex-direction: column;z-index: 1;position: relative;background-color: white;}#sk-container-id-7 div.sk-parallel-item:first-child::after {align-self: flex-end;width: 50%;}#sk-container-id-7 div.sk-parallel-item:last-child::after {align-self: flex-start;width: 50%;}#sk-container-id-7 div.sk-parallel-item:only-child::after {width: 0;}#sk-container-id-7 div.sk-dashed-wrapped {border: 1px dashed gray;margin: 0 0.4em 0.5em 0.4em;box-sizing: border-box;padding-bottom: 0.4em;background-color: white;}#sk-container-id-7 div.sk-label label {font-family: monospace;font-weight: bold;display: inline-block;line-height: 1.2em;}#sk-container-id-7 div.sk-label-container {text-align: center;}#sk-container-id-7 div.sk-container {/* jupyter's `normalize.less` sets `[hidden] { display: none; }` but bootstrap.min.css set `[hidden] { display: none !important; }` so we also need the `!important` here to be able to override the default hidden behavior on the sphinx rendered scikit-learn.org. See: https://github.com/scikit-learn/scikit-learn/issues/21755 */display: inline-block !important;position: relative;}#sk-container-id-7 div.sk-text-repr-fallback {display: none;}</style><div id=\"sk-container-id-7\" class=\"sk-top-container\"><div class=\"sk-text-repr-fallback\"><pre>KNeighborsRegressor(n_neighbors=3)</pre><b>In a Jupyter environment, please rerun this cell to show the HTML representation or trust the notebook. <br />On GitHub, the HTML representation is unable to render, please try loading this page with nbviewer.org.</b></div><div class=\"sk-container\" hidden><div class=\"sk-item\"><div class=\"sk-estimator sk-toggleable\"><input class=\"sk-toggleable__control sk-hidden--visually\" id=\"sk-estimator-id-7\" type=\"checkbox\" checked><label for=\"sk-estimator-id-7\" class=\"sk-toggleable__label sk-toggleable__label-arrow\">KNeighborsRegressor</label><div class=\"sk-toggleable__content\"><pre>KNeighborsRegressor(n_neighbors=3)</pre></div></div></div></div></div>"
            ]
          },
          "metadata": {},
          "execution_count": 96
        }
      ]
    },
    {
      "cell_type": "code",
      "source": [
        "# Predicciones\n",
        "y_pred_knn = knn_model.predict(X2_test)"
      ],
      "metadata": {
        "id": "z3e2hCKQhM2-"
      },
      "execution_count": 97,
      "outputs": []
    },
    {
      "cell_type": "code",
      "source": [
        "# Evaluación del rendimiento del modelo con Error Cuadrático Medio y R2\n",
        "mse_knn = mean_squared_error(y2_test, y_pred_knn)\n",
        "r2_knn = r2_score(y2_test, y_pred_knn)"
      ],
      "metadata": {
        "id": "pCYG7Pn9hOaB"
      },
      "execution_count": 98,
      "outputs": []
    },
    {
      "cell_type": "code",
      "source": [
        "#Resultados MSE y R2\n",
        "print(mse_knn)\n",
        "print(r2_knn)"
      ],
      "metadata": {
        "colab": {
          "base_uri": "https://localhost:8080/"
        },
        "id": "9gJep05tlmYB",
        "outputId": "9c3d325c-a704-4546-bfe4-3f4987556cfe"
      },
      "execution_count": 99,
      "outputs": [
        {
          "output_type": "stream",
          "name": "stdout",
          "text": [
            "3492.9503195943544\n",
            "0.5541559718627302\n"
          ]
        }
      ]
    },
    {
      "cell_type": "markdown",
      "source": [
        "¿Por qué no usar este modelo?\n",
        "\n",
        "Intenté ajustar algunos parámetros, y ver si podía mejorar el coeficiente de determinación (R2) pero no subió más de 0.55, así que lo deseché."
      ],
      "metadata": {
        "id": "YSjxt8L-hd4B"
      }
    },
    {
      "cell_type": "code",
      "source": [
        "#@title Modelo: Bosque Aleatorio\n",
        "#Train/test split\n",
        "X3_train, X3_test, y3_train, y3_test = train_test_split(df3.drop('pm2.5', axis=1), df3['pm2.5'], test_size=0.2)"
      ],
      "metadata": {
        "id": "i-K0c_Aihda6"
      },
      "execution_count": 53,
      "outputs": []
    },
    {
      "cell_type": "code",
      "source": [
        "#Instanciación de modelo: Bosque Aleatorio\n",
        "rf_model = RandomForestRegressor(n_estimators=100, max_depth=5)"
      ],
      "metadata": {
        "id": "9ZtS_v6mhq_K"
      },
      "execution_count": 54,
      "outputs": []
    },
    {
      "cell_type": "code",
      "source": [
        "#Model fit\n",
        "rf_model.fit(X3_train, y3_train)"
      ],
      "metadata": {
        "colab": {
          "base_uri": "https://localhost:8080/",
          "height": 75
        },
        "id": "C6xYLb1aht7B",
        "outputId": "a3c2e040-2454-4600-90c8-a0d9d9a0c55b"
      },
      "execution_count": 55,
      "outputs": [
        {
          "output_type": "execute_result",
          "data": {
            "text/plain": [
              "RandomForestRegressor(max_depth=5)"
            ],
            "text/html": [
              "<style>#sk-container-id-3 {color: black;background-color: white;}#sk-container-id-3 pre{padding: 0;}#sk-container-id-3 div.sk-toggleable {background-color: white;}#sk-container-id-3 label.sk-toggleable__label {cursor: pointer;display: block;width: 100%;margin-bottom: 0;padding: 0.3em;box-sizing: border-box;text-align: center;}#sk-container-id-3 label.sk-toggleable__label-arrow:before {content: \"▸\";float: left;margin-right: 0.25em;color: #696969;}#sk-container-id-3 label.sk-toggleable__label-arrow:hover:before {color: black;}#sk-container-id-3 div.sk-estimator:hover label.sk-toggleable__label-arrow:before {color: black;}#sk-container-id-3 div.sk-toggleable__content {max-height: 0;max-width: 0;overflow: hidden;text-align: left;background-color: #f0f8ff;}#sk-container-id-3 div.sk-toggleable__content pre {margin: 0.2em;color: black;border-radius: 0.25em;background-color: #f0f8ff;}#sk-container-id-3 input.sk-toggleable__control:checked~div.sk-toggleable__content {max-height: 200px;max-width: 100%;overflow: auto;}#sk-container-id-3 input.sk-toggleable__control:checked~label.sk-toggleable__label-arrow:before {content: \"▾\";}#sk-container-id-3 div.sk-estimator input.sk-toggleable__control:checked~label.sk-toggleable__label {background-color: #d4ebff;}#sk-container-id-3 div.sk-label input.sk-toggleable__control:checked~label.sk-toggleable__label {background-color: #d4ebff;}#sk-container-id-3 input.sk-hidden--visually {border: 0;clip: rect(1px 1px 1px 1px);clip: rect(1px, 1px, 1px, 1px);height: 1px;margin: -1px;overflow: hidden;padding: 0;position: absolute;width: 1px;}#sk-container-id-3 div.sk-estimator {font-family: monospace;background-color: #f0f8ff;border: 1px dotted black;border-radius: 0.25em;box-sizing: border-box;margin-bottom: 0.5em;}#sk-container-id-3 div.sk-estimator:hover {background-color: #d4ebff;}#sk-container-id-3 div.sk-parallel-item::after {content: \"\";width: 100%;border-bottom: 1px solid gray;flex-grow: 1;}#sk-container-id-3 div.sk-label:hover label.sk-toggleable__label {background-color: #d4ebff;}#sk-container-id-3 div.sk-serial::before {content: \"\";position: absolute;border-left: 1px solid gray;box-sizing: border-box;top: 0;bottom: 0;left: 50%;z-index: 0;}#sk-container-id-3 div.sk-serial {display: flex;flex-direction: column;align-items: center;background-color: white;padding-right: 0.2em;padding-left: 0.2em;position: relative;}#sk-container-id-3 div.sk-item {position: relative;z-index: 1;}#sk-container-id-3 div.sk-parallel {display: flex;align-items: stretch;justify-content: center;background-color: white;position: relative;}#sk-container-id-3 div.sk-item::before, #sk-container-id-3 div.sk-parallel-item::before {content: \"\";position: absolute;border-left: 1px solid gray;box-sizing: border-box;top: 0;bottom: 0;left: 50%;z-index: -1;}#sk-container-id-3 div.sk-parallel-item {display: flex;flex-direction: column;z-index: 1;position: relative;background-color: white;}#sk-container-id-3 div.sk-parallel-item:first-child::after {align-self: flex-end;width: 50%;}#sk-container-id-3 div.sk-parallel-item:last-child::after {align-self: flex-start;width: 50%;}#sk-container-id-3 div.sk-parallel-item:only-child::after {width: 0;}#sk-container-id-3 div.sk-dashed-wrapped {border: 1px dashed gray;margin: 0 0.4em 0.5em 0.4em;box-sizing: border-box;padding-bottom: 0.4em;background-color: white;}#sk-container-id-3 div.sk-label label {font-family: monospace;font-weight: bold;display: inline-block;line-height: 1.2em;}#sk-container-id-3 div.sk-label-container {text-align: center;}#sk-container-id-3 div.sk-container {/* jupyter's `normalize.less` sets `[hidden] { display: none; }` but bootstrap.min.css set `[hidden] { display: none !important; }` so we also need the `!important` here to be able to override the default hidden behavior on the sphinx rendered scikit-learn.org. See: https://github.com/scikit-learn/scikit-learn/issues/21755 */display: inline-block !important;position: relative;}#sk-container-id-3 div.sk-text-repr-fallback {display: none;}</style><div id=\"sk-container-id-3\" class=\"sk-top-container\"><div class=\"sk-text-repr-fallback\"><pre>RandomForestRegressor(max_depth=5)</pre><b>In a Jupyter environment, please rerun this cell to show the HTML representation or trust the notebook. <br />On GitHub, the HTML representation is unable to render, please try loading this page with nbviewer.org.</b></div><div class=\"sk-container\" hidden><div class=\"sk-item\"><div class=\"sk-estimator sk-toggleable\"><input class=\"sk-toggleable__control sk-hidden--visually\" id=\"sk-estimator-id-3\" type=\"checkbox\" checked><label for=\"sk-estimator-id-3\" class=\"sk-toggleable__label sk-toggleable__label-arrow\">RandomForestRegressor</label><div class=\"sk-toggleable__content\"><pre>RandomForestRegressor(max_depth=5)</pre></div></div></div></div></div>"
            ]
          },
          "metadata": {},
          "execution_count": 55
        }
      ]
    },
    {
      "cell_type": "code",
      "source": [
        "# Predicciones\n",
        "y_pred_rf = rf_model.predict(X3_test)"
      ],
      "metadata": {
        "id": "2C0tpk9AhwhT"
      },
      "execution_count": 56,
      "outputs": []
    },
    {
      "cell_type": "code",
      "source": [
        "# Evaluación del rendimiento del modelo con Error Cuadrático Medio y R2\n",
        "mse_rf = mean_squared_error(y3_test, y_pred_rf)\n",
        "r2_rf = r2_score(y3_test, y_pred_rf)"
      ],
      "metadata": {
        "id": "XkjimFPFh0i5"
      },
      "execution_count": 57,
      "outputs": []
    },
    {
      "cell_type": "code",
      "source": [
        "#Resultados MSE y R2\n",
        "print(mse_rf)\n",
        "print(r2_rf)"
      ],
      "metadata": {
        "colab": {
          "base_uri": "https://localhost:8080/"
        },
        "id": "ZjTWj-ktluio",
        "outputId": "922eb4c3-ddd5-4eef-f04a-4fb419252fd9"
      },
      "execution_count": 58,
      "outputs": [
        {
          "output_type": "stream",
          "name": "stdout",
          "text": [
            "6343.840750408885\n",
            "0.24765644305623458\n"
          ]
        }
      ]
    },
    {
      "cell_type": "markdown",
      "source": [
        "¿Por qué no usar este modelo?\n",
        "\n",
        "No uso el Bosque Aleatorio, por que hice varias pruebas con los estimators, y las predicciones, pero de igual forma no sube mucho el coeficiente de determinación."
      ],
      "metadata": {
        "id": "J61TEQhniLov"
      }
    },
    {
      "cell_type": "code",
      "source": [
        "#@title Modelo: Gradient Boosting\n",
        "#Train/test split\n",
        "X4_train, X4_test, y4_train, y4_test = train_test_split(df4.drop('pm2.5', axis=1), df4['pm2.5'], test_size=0.2)"
      ],
      "metadata": {
        "id": "jL81r5MHiLSy"
      },
      "execution_count": 59,
      "outputs": []
    },
    {
      "cell_type": "code",
      "source": [
        "#Instanciación de modelo: Gradient Boosting\n",
        "gb_model = GradientBoostingRegressor(n_estimators=9000, max_depth=30,min_samples_split= 5, learning_rate= 0.01)"
      ],
      "metadata": {
        "id": "bKXVIHUXiYS6"
      },
      "execution_count": 121,
      "outputs": []
    },
    {
      "cell_type": "code",
      "source": [
        "#Model fit\n",
        "gb_model.fit(X4_train, y4_train)"
      ],
      "metadata": {
        "colab": {
          "base_uri": "https://localhost:8080/",
          "height": 92
        },
        "id": "2ckghmriia3K",
        "outputId": "959434a9-d1c1-486e-8509-4e59edb0a234"
      },
      "execution_count": 122,
      "outputs": [
        {
          "output_type": "execute_result",
          "data": {
            "text/plain": [
              "GradientBoostingRegressor(learning_rate=0.01, max_depth=30, min_samples_split=5,\n",
              "                          n_estimators=9000)"
            ],
            "text/html": [
              "<style>#sk-container-id-12 {color: black;background-color: white;}#sk-container-id-12 pre{padding: 0;}#sk-container-id-12 div.sk-toggleable {background-color: white;}#sk-container-id-12 label.sk-toggleable__label {cursor: pointer;display: block;width: 100%;margin-bottom: 0;padding: 0.3em;box-sizing: border-box;text-align: center;}#sk-container-id-12 label.sk-toggleable__label-arrow:before {content: \"▸\";float: left;margin-right: 0.25em;color: #696969;}#sk-container-id-12 label.sk-toggleable__label-arrow:hover:before {color: black;}#sk-container-id-12 div.sk-estimator:hover label.sk-toggleable__label-arrow:before {color: black;}#sk-container-id-12 div.sk-toggleable__content {max-height: 0;max-width: 0;overflow: hidden;text-align: left;background-color: #f0f8ff;}#sk-container-id-12 div.sk-toggleable__content pre {margin: 0.2em;color: black;border-radius: 0.25em;background-color: #f0f8ff;}#sk-container-id-12 input.sk-toggleable__control:checked~div.sk-toggleable__content {max-height: 200px;max-width: 100%;overflow: auto;}#sk-container-id-12 input.sk-toggleable__control:checked~label.sk-toggleable__label-arrow:before {content: \"▾\";}#sk-container-id-12 div.sk-estimator input.sk-toggleable__control:checked~label.sk-toggleable__label {background-color: #d4ebff;}#sk-container-id-12 div.sk-label input.sk-toggleable__control:checked~label.sk-toggleable__label {background-color: #d4ebff;}#sk-container-id-12 input.sk-hidden--visually {border: 0;clip: rect(1px 1px 1px 1px);clip: rect(1px, 1px, 1px, 1px);height: 1px;margin: -1px;overflow: hidden;padding: 0;position: absolute;width: 1px;}#sk-container-id-12 div.sk-estimator {font-family: monospace;background-color: #f0f8ff;border: 1px dotted black;border-radius: 0.25em;box-sizing: border-box;margin-bottom: 0.5em;}#sk-container-id-12 div.sk-estimator:hover {background-color: #d4ebff;}#sk-container-id-12 div.sk-parallel-item::after {content: \"\";width: 100%;border-bottom: 1px solid gray;flex-grow: 1;}#sk-container-id-12 div.sk-label:hover label.sk-toggleable__label {background-color: #d4ebff;}#sk-container-id-12 div.sk-serial::before {content: \"\";position: absolute;border-left: 1px solid gray;box-sizing: border-box;top: 0;bottom: 0;left: 50%;z-index: 0;}#sk-container-id-12 div.sk-serial {display: flex;flex-direction: column;align-items: center;background-color: white;padding-right: 0.2em;padding-left: 0.2em;position: relative;}#sk-container-id-12 div.sk-item {position: relative;z-index: 1;}#sk-container-id-12 div.sk-parallel {display: flex;align-items: stretch;justify-content: center;background-color: white;position: relative;}#sk-container-id-12 div.sk-item::before, #sk-container-id-12 div.sk-parallel-item::before {content: \"\";position: absolute;border-left: 1px solid gray;box-sizing: border-box;top: 0;bottom: 0;left: 50%;z-index: -1;}#sk-container-id-12 div.sk-parallel-item {display: flex;flex-direction: column;z-index: 1;position: relative;background-color: white;}#sk-container-id-12 div.sk-parallel-item:first-child::after {align-self: flex-end;width: 50%;}#sk-container-id-12 div.sk-parallel-item:last-child::after {align-self: flex-start;width: 50%;}#sk-container-id-12 div.sk-parallel-item:only-child::after {width: 0;}#sk-container-id-12 div.sk-dashed-wrapped {border: 1px dashed gray;margin: 0 0.4em 0.5em 0.4em;box-sizing: border-box;padding-bottom: 0.4em;background-color: white;}#sk-container-id-12 div.sk-label label {font-family: monospace;font-weight: bold;display: inline-block;line-height: 1.2em;}#sk-container-id-12 div.sk-label-container {text-align: center;}#sk-container-id-12 div.sk-container {/* jupyter's `normalize.less` sets `[hidden] { display: none; }` but bootstrap.min.css set `[hidden] { display: none !important; }` so we also need the `!important` here to be able to override the default hidden behavior on the sphinx rendered scikit-learn.org. See: https://github.com/scikit-learn/scikit-learn/issues/21755 */display: inline-block !important;position: relative;}#sk-container-id-12 div.sk-text-repr-fallback {display: none;}</style><div id=\"sk-container-id-12\" class=\"sk-top-container\"><div class=\"sk-text-repr-fallback\"><pre>GradientBoostingRegressor(learning_rate=0.01, max_depth=30, min_samples_split=5,\n",
              "                          n_estimators=9000)</pre><b>In a Jupyter environment, please rerun this cell to show the HTML representation or trust the notebook. <br />On GitHub, the HTML representation is unable to render, please try loading this page with nbviewer.org.</b></div><div class=\"sk-container\" hidden><div class=\"sk-item\"><div class=\"sk-estimator sk-toggleable\"><input class=\"sk-toggleable__control sk-hidden--visually\" id=\"sk-estimator-id-12\" type=\"checkbox\" checked><label for=\"sk-estimator-id-12\" class=\"sk-toggleable__label sk-toggleable__label-arrow\">GradientBoostingRegressor</label><div class=\"sk-toggleable__content\"><pre>GradientBoostingRegressor(learning_rate=0.01, max_depth=30, min_samples_split=5,\n",
              "                          n_estimators=9000)</pre></div></div></div></div></div>"
            ]
          },
          "metadata": {},
          "execution_count": 122
        }
      ]
    },
    {
      "cell_type": "code",
      "source": [
        "# Predicciones\n",
        "y_pred_gb = gb_model.predict(X4_test)"
      ],
      "metadata": {
        "id": "_bSkfKo4ictD"
      },
      "execution_count": 123,
      "outputs": []
    },
    {
      "cell_type": "code",
      "source": [
        "# Evaluación del rendimiento del modelo con Error Cuadrático Medio y R2\n",
        "mse_gb = mean_squared_error(y4_test, y_pred_gb)\n",
        "r2_gb = r2_score(y4_test, y_pred_gb)"
      ],
      "metadata": {
        "id": "IPfgTxHfid7J"
      },
      "execution_count": 124,
      "outputs": []
    },
    {
      "cell_type": "code",
      "source": [
        "#Resultados MSE y R2\n",
        "print(mse_gb)\n",
        "print(r2_gb)"
      ],
      "metadata": {
        "colab": {
          "base_uri": "https://localhost:8080/"
        },
        "id": "_Zo-Wsvol0TB",
        "outputId": "d947c3ad-0fc8-4225-9578-ac7cf1ed8aab"
      },
      "execution_count": 125,
      "outputs": [
        {
          "output_type": "stream",
          "name": "stdout",
          "text": [
            "1824.7206563186994\n",
            "0.786528163715788\n"
          ]
        }
      ]
    },
    {
      "cell_type": "markdown",
      "source": [
        "Este modelo personalmente lo investigué, para tener más información del mismo, entrar a esta página: https://vitalflux.com/gradient-boosting-regression-python-examples/\n"
      ],
      "metadata": {
        "id": "J2v_ZTWRijaz"
      }
    },
    {
      "cell_type": "code",
      "source": [
        "#@title Modelo:SARIMAX\n",
        "#Uso de ingieniería de caracteristicas: fecha y hora\n",
        "#Esto me permitirá trabajar más facilmente y tomar ventaja de"
      ],
      "metadata": {
        "id": "FO6xpqBayVG0"
      },
      "execution_count": 65,
      "outputs": []
    },
    {
      "cell_type": "code",
      "source": [
        "# combinar el año, mes, día, y horas en una sola columna\n",
        "df['datetime'] = pd.to_datetime(df[['year', 'month', 'day', 'hour']])\n",
        "# Eliminar las columnas originales, por que ya son redundantes\n",
        "df.drop(['year', 'month', 'day', 'hour'], axis=1, inplace=True)\n",
        "df.head()"
      ],
      "metadata": {
        "colab": {
          "base_uri": "https://localhost:8080/",
          "height": 206
        },
        "id": "9rNrFERoc1BC",
        "outputId": "f5068512-d37d-4a6d-b68e-4faa2e633532"
      },
      "execution_count": 66,
      "outputs": [
        {
          "output_type": "execute_result",
          "data": {
            "text/plain": [
              "    pm2.5  TEMP    PRES   Iws            datetime\n",
              "24  129.0  -4.0  1020.0  1.79 2010-01-02 00:00:00\n",
              "25  148.0  -4.0  1020.0  2.68 2010-01-02 01:00:00\n",
              "26  159.0  -5.0  1021.0  3.57 2010-01-02 02:00:00\n",
              "27  181.0  -5.0  1022.0  5.36 2010-01-02 03:00:00\n",
              "28  138.0  -5.0  1022.0  6.25 2010-01-02 04:00:00"
            ],
            "text/html": [
              "\n",
              "  <div id=\"df-05795e9d-cab9-45c4-98ba-364418a835d1\">\n",
              "    <div class=\"colab-df-container\">\n",
              "      <div>\n",
              "<style scoped>\n",
              "    .dataframe tbody tr th:only-of-type {\n",
              "        vertical-align: middle;\n",
              "    }\n",
              "\n",
              "    .dataframe tbody tr th {\n",
              "        vertical-align: top;\n",
              "    }\n",
              "\n",
              "    .dataframe thead th {\n",
              "        text-align: right;\n",
              "    }\n",
              "</style>\n",
              "<table border=\"1\" class=\"dataframe\">\n",
              "  <thead>\n",
              "    <tr style=\"text-align: right;\">\n",
              "      <th></th>\n",
              "      <th>pm2.5</th>\n",
              "      <th>TEMP</th>\n",
              "      <th>PRES</th>\n",
              "      <th>Iws</th>\n",
              "      <th>datetime</th>\n",
              "    </tr>\n",
              "  </thead>\n",
              "  <tbody>\n",
              "    <tr>\n",
              "      <th>24</th>\n",
              "      <td>129.0</td>\n",
              "      <td>-4.0</td>\n",
              "      <td>1020.0</td>\n",
              "      <td>1.79</td>\n",
              "      <td>2010-01-02 00:00:00</td>\n",
              "    </tr>\n",
              "    <tr>\n",
              "      <th>25</th>\n",
              "      <td>148.0</td>\n",
              "      <td>-4.0</td>\n",
              "      <td>1020.0</td>\n",
              "      <td>2.68</td>\n",
              "      <td>2010-01-02 01:00:00</td>\n",
              "    </tr>\n",
              "    <tr>\n",
              "      <th>26</th>\n",
              "      <td>159.0</td>\n",
              "      <td>-5.0</td>\n",
              "      <td>1021.0</td>\n",
              "      <td>3.57</td>\n",
              "      <td>2010-01-02 02:00:00</td>\n",
              "    </tr>\n",
              "    <tr>\n",
              "      <th>27</th>\n",
              "      <td>181.0</td>\n",
              "      <td>-5.0</td>\n",
              "      <td>1022.0</td>\n",
              "      <td>5.36</td>\n",
              "      <td>2010-01-02 03:00:00</td>\n",
              "    </tr>\n",
              "    <tr>\n",
              "      <th>28</th>\n",
              "      <td>138.0</td>\n",
              "      <td>-5.0</td>\n",
              "      <td>1022.0</td>\n",
              "      <td>6.25</td>\n",
              "      <td>2010-01-02 04:00:00</td>\n",
              "    </tr>\n",
              "  </tbody>\n",
              "</table>\n",
              "</div>\n",
              "      <button class=\"colab-df-convert\" onclick=\"convertToInteractive('df-05795e9d-cab9-45c4-98ba-364418a835d1')\"\n",
              "              title=\"Convert this dataframe to an interactive table.\"\n",
              "              style=\"display:none;\">\n",
              "        \n",
              "  <svg xmlns=\"http://www.w3.org/2000/svg\" height=\"24px\"viewBox=\"0 0 24 24\"\n",
              "       width=\"24px\">\n",
              "    <path d=\"M0 0h24v24H0V0z\" fill=\"none\"/>\n",
              "    <path d=\"M18.56 5.44l.94 2.06.94-2.06 2.06-.94-2.06-.94-.94-2.06-.94 2.06-2.06.94zm-11 1L8.5 8.5l.94-2.06 2.06-.94-2.06-.94L8.5 2.5l-.94 2.06-2.06.94zm10 10l.94 2.06.94-2.06 2.06-.94-2.06-.94-.94-2.06-.94 2.06-2.06.94z\"/><path d=\"M17.41 7.96l-1.37-1.37c-.4-.4-.92-.59-1.43-.59-.52 0-1.04.2-1.43.59L10.3 9.45l-7.72 7.72c-.78.78-.78 2.05 0 2.83L4 21.41c.39.39.9.59 1.41.59.51 0 1.02-.2 1.41-.59l7.78-7.78 2.81-2.81c.8-.78.8-2.07 0-2.86zM5.41 20L4 18.59l7.72-7.72 1.47 1.35L5.41 20z\"/>\n",
              "  </svg>\n",
              "      </button>\n",
              "      \n",
              "  <style>\n",
              "    .colab-df-container {\n",
              "      display:flex;\n",
              "      flex-wrap:wrap;\n",
              "      gap: 12px;\n",
              "    }\n",
              "\n",
              "    .colab-df-convert {\n",
              "      background-color: #E8F0FE;\n",
              "      border: none;\n",
              "      border-radius: 50%;\n",
              "      cursor: pointer;\n",
              "      display: none;\n",
              "      fill: #1967D2;\n",
              "      height: 32px;\n",
              "      padding: 0 0 0 0;\n",
              "      width: 32px;\n",
              "    }\n",
              "\n",
              "    .colab-df-convert:hover {\n",
              "      background-color: #E2EBFA;\n",
              "      box-shadow: 0px 1px 2px rgba(60, 64, 67, 0.3), 0px 1px 3px 1px rgba(60, 64, 67, 0.15);\n",
              "      fill: #174EA6;\n",
              "    }\n",
              "\n",
              "    [theme=dark] .colab-df-convert {\n",
              "      background-color: #3B4455;\n",
              "      fill: #D2E3FC;\n",
              "    }\n",
              "\n",
              "    [theme=dark] .colab-df-convert:hover {\n",
              "      background-color: #434B5C;\n",
              "      box-shadow: 0px 1px 3px 1px rgba(0, 0, 0, 0.15);\n",
              "      filter: drop-shadow(0px 1px 2px rgba(0, 0, 0, 0.3));\n",
              "      fill: #FFFFFF;\n",
              "    }\n",
              "  </style>\n",
              "\n",
              "      <script>\n",
              "        const buttonEl =\n",
              "          document.querySelector('#df-05795e9d-cab9-45c4-98ba-364418a835d1 button.colab-df-convert');\n",
              "        buttonEl.style.display =\n",
              "          google.colab.kernel.accessAllowed ? 'block' : 'none';\n",
              "\n",
              "        async function convertToInteractive(key) {\n",
              "          const element = document.querySelector('#df-05795e9d-cab9-45c4-98ba-364418a835d1');\n",
              "          const dataTable =\n",
              "            await google.colab.kernel.invokeFunction('convertToInteractive',\n",
              "                                                     [key], {});\n",
              "          if (!dataTable) return;\n",
              "\n",
              "          const docLinkHtml = 'Like what you see? Visit the ' +\n",
              "            '<a target=\"_blank\" href=https://colab.research.google.com/notebooks/data_table.ipynb>data table notebook</a>'\n",
              "            + ' to learn more about interactive tables.';\n",
              "          element.innerHTML = '';\n",
              "          dataTable['output_type'] = 'display_data';\n",
              "          await google.colab.output.renderOutput(dataTable, element);\n",
              "          const docLink = document.createElement('div');\n",
              "          docLink.innerHTML = docLinkHtml;\n",
              "          element.appendChild(docLink);\n",
              "        }\n",
              "      </script>\n",
              "    </div>\n",
              "  </div>\n",
              "  "
            ]
          },
          "metadata": {},
          "execution_count": 66
        }
      ]
    },
    {
      "cell_type": "code",
      "source": [
        "#Hay que instalar esta extensión para poder usar de statsmodels el modelo: SARIMAX\n",
        "!pip install statsmodels"
      ],
      "metadata": {
        "colab": {
          "base_uri": "https://localhost:8080/"
        },
        "id": "4wNLO9PxmPyQ",
        "outputId": "aa127474-d656-4463-d4fa-74851093564b"
      },
      "execution_count": 67,
      "outputs": [
        {
          "output_type": "stream",
          "name": "stdout",
          "text": [
            "Looking in indexes: https://pypi.org/simple, https://us-python.pkg.dev/colab-wheels/public/simple/\n",
            "Requirement already satisfied: statsmodels in /usr/local/lib/python3.9/dist-packages (0.13.5)\n",
            "Requirement already satisfied: pandas>=0.25 in /usr/local/lib/python3.9/dist-packages (from statsmodels) (1.5.3)\n",
            "Requirement already satisfied: numpy>=1.17 in /usr/local/lib/python3.9/dist-packages (from statsmodels) (1.22.4)\n",
            "Requirement already satisfied: patsy>=0.5.2 in /usr/local/lib/python3.9/dist-packages (from statsmodels) (0.5.3)\n",
            "Requirement already satisfied: scipy>=1.3 in /usr/local/lib/python3.9/dist-packages (from statsmodels) (1.10.1)\n",
            "Requirement already satisfied: packaging>=21.3 in /usr/local/lib/python3.9/dist-packages (from statsmodels) (23.1)\n",
            "Requirement already satisfied: python-dateutil>=2.8.1 in /usr/local/lib/python3.9/dist-packages (from pandas>=0.25->statsmodels) (2.8.2)\n",
            "Requirement already satisfied: pytz>=2020.1 in /usr/local/lib/python3.9/dist-packages (from pandas>=0.25->statsmodels) (2022.7.1)\n",
            "Requirement already satisfied: six in /usr/local/lib/python3.9/dist-packages (from patsy>=0.5.2->statsmodels) (1.16.0)\n"
          ]
        }
      ]
    },
    {
      "cell_type": "code",
      "source": [
        "from statsmodels.tsa.statespace.sarimax import SARIMAX"
      ],
      "metadata": {
        "id": "gmtFA5MzmWcB"
      },
      "execution_count": 68,
      "outputs": []
    },
    {
      "cell_type": "code",
      "source": [
        "import statsmodels.api as sm"
      ],
      "metadata": {
        "id": "lBCWNiF6p4kf"
      },
      "execution_count": 69,
      "outputs": []
    },
    {
      "cell_type": "code",
      "source": [
        "#Hago un groupby para ver el promedio del contaminante con el pasar del tiempo\n",
        "df_hourly = df.groupby('datetime')['pm2.5'].mean()"
      ],
      "metadata": {
        "id": "MUstBGa_pyyR"
      },
      "execution_count": 70,
      "outputs": []
    },
    {
      "cell_type": "code",
      "source": [
        "#Instancia de modelo, los parámetros hacen que vaya de hora en hora.\n",
        "model = sm.tsa.statespace.SARIMAX(df_hourly, order=(1, 0, 0), seasonal_order=(0, 1, 0, 24))\n",
        "model_fit = model.fit()"
      ],
      "metadata": {
        "colab": {
          "base_uri": "https://localhost:8080/"
        },
        "id": "-AdC-v0QpzW5",
        "outputId": "548e54ef-7f70-43cc-bd65-4e22589fbd05"
      },
      "execution_count": 79,
      "outputs": [
        {
          "output_type": "stream",
          "name": "stderr",
          "text": [
            "/usr/local/lib/python3.9/dist-packages/statsmodels/tsa/base/tsa_model.py:471: ValueWarning: No frequency information was provided, so inferred frequency H will be used.\n",
            "  self._init_dates(dates, freq)\n",
            "/usr/local/lib/python3.9/dist-packages/statsmodels/tsa/base/tsa_model.py:471: ValueWarning: No frequency information was provided, so inferred frequency H will be used.\n",
            "  self._init_dates(dates, freq)\n"
          ]
        }
      ]
    },
    {
      "cell_type": "code",
      "source": [
        "#Predicciones\n",
        "preds = model_fit.predict(start=df_hourly.index[-1], end=df_hourly.index[-1] + pd.Timedelta(hours=24), dynamic=True, params=model_fit.params)"
      ],
      "metadata": {
        "id": "9juI2lJVp8f5"
      },
      "execution_count": 73,
      "outputs": []
    },
    {
      "cell_type": "code",
      "source": [
        "preds.head()"
      ],
      "metadata": {
        "colab": {
          "base_uri": "https://localhost:8080/"
        },
        "id": "l_sa7-1NhJjq",
        "outputId": "461f7fa3-ae77-47e8-e96e-c31d1aa2dde3"
      },
      "execution_count": 76,
      "outputs": [
        {
          "output_type": "execute_result",
          "data": {
            "text/plain": [
              "2014-12-31 23:00:00    16.0\n",
              "2015-01-01 00:00:00    10.0\n",
              "2015-01-01 01:00:00    11.0\n",
              "2015-01-01 02:00:00    20.0\n",
              "2015-01-01 03:00:00     9.0\n",
              "Freq: H, Name: predicted_mean, dtype: float64"
            ]
          },
          "metadata": {},
          "execution_count": 76
        }
      ]
    },
    {
      "cell_type": "code",
      "source": [
        "#Hacer un Series de las predicciones\n",
        "preds_series = pd.Series(preds, index=pd.date_range(start=df_hourly.index[-1], periods=len(preds), freq='H'))"
      ],
      "metadata": {
        "id": "1Van_smAhygT"
      },
      "execution_count": 80,
      "outputs": []
    },
    {
      "cell_type": "code",
      "source": [
        "#Gráfico de predicciones vs Datos originales.\n",
        "import matplotlib.pyplot as plt\n",
        "\n",
        "fig, ax = plt.subplots(figsize=(12, 6))\n",
        "# Gráfico de línea con los datos originales\n",
        "preds_series.plot(ax=ax)\n",
        "# Gráfico de línea con las predicciones\n",
        "df_hourly.plot(ax=ax)\n",
        "# Etiquetas del gráfico\n",
        "ax.set_xlabel('Fecha')\n",
        "ax.set_ylabel('pm2.5')\n",
        "ax.set_title('Evolución de pm2.5 a lo largo del tiempo')\n",
        "ax.legend(['Datos originales', 'Predicciones']);"
      ],
      "metadata": {
        "colab": {
          "base_uri": "https://localhost:8080/",
          "height": 351
        },
        "id": "eL1PXw6Kp9g5",
        "outputId": "b6bb7632-6576-4f3d-a8b7-d7856c23bae3"
      },
      "execution_count": 83,
      "outputs": [
        {
          "output_type": "display_data",
          "data": {
            "text/plain": [
              "<Figure size 1200x600 with 1 Axes>"
            ],
            "image/png": "[encoded data removed]"
          },
          "metadata": {}
        }
      ]
    },
    {
      "cell_type": "markdown",
      "source": [
        "Este modelo lo investigué yo, para más información del mismo: https://analyticsindiamag.com/complete-guide-to-sarimax-in-python-for-time-series-modeling/\n",
        "https://www.statsmodels.org/devel/generated/statsmodels.tsa.statespace.sarimax.SARIMAX.html\n",
        "\n",
        "Estoy viendo si usar este, o el modelo de Gradient Boosting, el problema de Gradient Boosting, aunque es el mejor con un resultado de 0.78 en R2, se demora mucho, ya que necesita mucho input y varios parámetros, para que mejore, mientras que en el SARIMAX con toda la info, usando el tiempo, puedo predecir, lo malo, es que aún no lo he investigado muy bien, me gustaría investigar algo más y ver si añadiendo más datos, puedo ver si logra predecir algo, ya que ahora predice exactamente lo mismo que los datos originales."
      ],
      "metadata": {
        "id": "0np4i780vkJJ"
      }
    }
  ]
}